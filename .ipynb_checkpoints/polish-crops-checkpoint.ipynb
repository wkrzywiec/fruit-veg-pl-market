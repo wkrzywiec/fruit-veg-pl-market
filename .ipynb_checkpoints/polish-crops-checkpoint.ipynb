{
 "cells": [
  {
   "cell_type": "markdown",
   "metadata": {},
   "source": [
    "# Polish Crops analysis\n",
    "\n",
    "With this notebook I would like to playaround some machine learning Python tools. \n",
    "\n",
    "Therefore I've decided to create this simple project, in which I want to check a simple hypothesis - is percipitation and/or temperature in Poland affecting prices of crops (soft wheat). In order to achieve it here are the steps:\n",
    "\n",
    "* **Step 1 Download source reports** - downloading necessary files from publically available databases.\n",
    "\n",
    "* **Step 2 Data preprocessing** - unnecessary data are removed and prepared for further processing.\n",
    "\n",
    "* **Step 3 Data visualization** - plotting couple of charts, just to visualize the downloaded data.\n",
    "\n",
    "* **Step 4 Train machine learning models** - training couple of machine learning regression models to check which one of them fits the best - is it a correlaction between climate (temperature, percipitation) and prices of soft wheat."
   ]
  },
  {
   "cell_type": "markdown",
   "metadata": {},
   "source": [
    "## Step 1 Download source reports\n",
    "---\n",
    "\n",
    "First you need to download necessary data. They are downloaded from following sources:\n",
    "\n",
    "* [IMGW (Instytut Meteorologii i Gospodarki Wodnej, *eng.* Polish Institute of Meteorology and Water Management)](https://danepubliczne.imgw.pl)\n",
    "* [Eurostat](https://ec.europa.eu/eurostat/data/database)\n",
    "\n",
    "First step is to import necessary dependencies and define for which years we want to download reports:"
   ]
  },
  {
   "cell_type": "code",
   "execution_count": 1,
   "metadata": {},
   "outputs": [],
   "source": [
    "import tools.imgw as imgw\n",
    "import tools.eurostat as eurostat\n",
    "import pandas as pd\n",
    "\n",
    "years = [2001, 2002, 2003, 2004, 2005, 2006, 2007, 2008, 2009, 2010, 2011, 2012, 2013, 2014, 2015, 2016, 2017, 2018, 2019]"
   ]
  },
  {
   "cell_type": "markdown",
   "metadata": {},
   "source": [
    "To avoid boilerplate code and to keep this notebook short, inside `./tools` directory there are Python modules that allows to download following reports:\n",
    "\n",
    "* [Monthly tempreture report in Poland](https://dane.imgw.pl/data/dane_pomiarowo_obserwacyjne/dane_meteorologiczne/miesieczne/klimat/)\n",
    "* [Monthly precipitation report in Poland](https://dane.imgw.pl/data/dane_pomiarowo_obserwacyjne/dane_meteorologiczne/miesieczne/opad/)\n",
    "* [Selling prices of crop products (absolute prices) - annual price (from 2000 onwards)](https://ec.europa.eu/eurostat/data/database?p_p_id=NavTreeportletprod_WAR_NavTreeportletprod_INSTANCE_nPqeVbPXRmWQ&p_p_lifecycle=0&p_p_state=pop_up&p_p_mode=view&p_p_col_id=column-2&p_p_col_pos=1&p_p_col_count=2&_NavTreeportletprod_WAR_NavTreeportletprod_INSTANCE_nPqeVbPXRmWQ_nodeInfoService=true&nodeId=98243)\n",
    "\n",
    "Inside reports there are no explanation for every column or for codes inside of some cells, therefore dictionaries file are also need to be downloaded."
   ]
  },
  {
   "cell_type": "code",
   "execution_count": 2,
   "metadata": {},
   "outputs": [],
   "source": [
    "raw_temperature_report_paths = imgw.download_temperature_reports(years)\n",
    "temperature_report_dic_path = imgw.download_temperature_report_dic()\n",
    "\n",
    "raw_precipitation_report_paths = imgw.download_precipitation_reports(years)\n",
    "precipitation_report_dic_path = imgw.download_precipitation_report_dic()\n",
    "\n",
    "raw_crop_prices_report_path = eurostat.download_crop_prices()\n",
    "crop_categories_dic_path = eurostat.download_crop_categories_dic()"
   ]
  },
  {
   "cell_type": "markdown",
   "metadata": {},
   "source": [
    "## Step 2 Data preprocessing\n",
    "---\n",
    "\n",
    "Before training machine learning models or plotting charts, data needs to be prepared. The resulting files will be stored in directories: "
   ]
  },
  {
   "cell_type": "code",
   "execution_count": 3,
   "metadata": {},
   "outputs": [],
   "source": [
    "temperature_data_path = 'data/processed/temperature.csv'\n",
    "precipitation_data_path = 'data/processed/precipitation.csv'\n",
    "crops_data_path = 'data/processed/crops.csv'"
   ]
  },
  {
   "cell_type": "markdown",
   "metadata": {},
   "source": [
    "### Step 2.1 Prepare temperature data\n",
    "\n",
    "All temperature report files doesn't have column headers, therefore to check what each one of them mean we need to examin `k_m_t_format.txt` file. Here is a code that prints the headers (unfortunately in polish, I'll translate them in next step)"
   ]
  },
  {
   "cell_type": "code",
   "execution_count": 4,
   "metadata": {},
   "outputs": [
    {
     "name": "stdout",
     "output_type": "stream",
     "text": [
      "-1\t\n",
      "\n",
      "0\tKod stacji                                       9\n",
      "\n",
      "1\tNazwa stacji                                    30\n",
      "\n",
      "2\tRok                                              4\n",
      "\n",
      "3\tMiesiąc                                          2\n",
      "\n",
      "4\tŚrednia miesięczna temperatura [°C]              5/1\n",
      "\n",
      "5\tStatus pomiaru TEMP                              1\n",
      "\n",
      "6\tŚrednia miesięczna wilgotność względna [%]       8/1\n",
      "\n",
      "7\tStatus pomiaru WLGS                              1\n",
      "\n",
      "8\tŚrednia miesięczna prędkość wiatru [m/s]         6/1\n",
      "\n",
      "9\tStatus pomiaru FWS                               1\n",
      "\n",
      "10\tŚrednie miesięczne zachmurzenie ogólne [oktanty] 6/1\n",
      "\n",
      "11\tStatus pomiaru NOS                               1\n",
      "\n",
      "12\t   \n",
      "\n",
      "13\tStatus \"8\" brak pomiaru\n"
     ]
    }
   ],
   "source": [
    "f = open(temperature_report_dic_path)\n",
    "index = -1\n",
    "for line in f:\n",
    "    print('{}\\t{}'.format(index,line))\n",
    "    index += 1\n",
    "f.close()"
   ]
  },
  {
   "cell_type": "markdown",
   "metadata": {},
   "source": [
    "In previous step, we've downloaded one file per each year, which now needs to combined into single one. Moreover, each of these files has temperature readings for several places across Poland. I've decided to calculate an average temperature for each month for entire Poland."
   ]
  },
  {
   "cell_type": "code",
   "execution_count": 5,
   "metadata": {},
   "outputs": [
    {
     "data": {
      "text/html": [
       "<div>\n",
       "<style scoped>\n",
       "    .dataframe tbody tr th:only-of-type {\n",
       "        vertical-align: middle;\n",
       "    }\n",
       "\n",
       "    .dataframe tbody tr th {\n",
       "        vertical-align: top;\n",
       "    }\n",
       "\n",
       "    .dataframe thead th {\n",
       "        text-align: right;\n",
       "    }\n",
       "</style>\n",
       "<table border=\"1\" class=\"dataframe\">\n",
       "  <thead>\n",
       "    <tr style=\"text-align: right;\">\n",
       "      <th></th>\n",
       "      <th>Date</th>\n",
       "      <th>Year</th>\n",
       "      <th>Month</th>\n",
       "      <th>Temperature [°C]</th>\n",
       "    </tr>\n",
       "  </thead>\n",
       "  <tbody>\n",
       "    <tr>\n",
       "      <th>0</th>\n",
       "      <td>01-2019</td>\n",
       "      <td>2019</td>\n",
       "      <td>1</td>\n",
       "      <td>-3.024638</td>\n",
       "    </tr>\n",
       "    <tr>\n",
       "      <th>1</th>\n",
       "      <td>02-2019</td>\n",
       "      <td>2019</td>\n",
       "      <td>2</td>\n",
       "      <td>1.857353</td>\n",
       "    </tr>\n",
       "    <tr>\n",
       "      <th>2</th>\n",
       "      <td>03-2019</td>\n",
       "      <td>2019</td>\n",
       "      <td>3</td>\n",
       "      <td>4.667164</td>\n",
       "    </tr>\n",
       "    <tr>\n",
       "      <th>3</th>\n",
       "      <td>04-2019</td>\n",
       "      <td>2019</td>\n",
       "      <td>4</td>\n",
       "      <td>8.604478</td>\n",
       "    </tr>\n",
       "    <tr>\n",
       "      <th>4</th>\n",
       "      <td>05-2019</td>\n",
       "      <td>2019</td>\n",
       "      <td>5</td>\n",
       "      <td>11.494030</td>\n",
       "    </tr>\n",
       "  </tbody>\n",
       "</table>\n",
       "</div>"
      ],
      "text/plain": [
       "      Date  Year  Month  Temperature [°C]\n",
       "0  01-2019  2019      1         -3.024638\n",
       "1  02-2019  2019      2          1.857353\n",
       "2  03-2019  2019      3          4.667164\n",
       "3  04-2019  2019      4          8.604478\n",
       "4  05-2019  2019      5         11.494030"
      ]
     },
     "execution_count": 5,
     "metadata": {},
     "output_type": "execute_result"
    }
   ],
   "source": [
    "for i in range(len(years)):\n",
    "    df = pd.read_csv(raw_temperature_report_paths.get(years[i]), header = None, encoding= 'unicode_escape')\n",
    "    df = df.drop(columns=[0, 1, 5, 6, 7, 8, 9, 10, 11])\n",
    "    df = df.rename(columns={2: 'Year', 3: 'Month', 4: 'Temperature [°C]'})\n",
    "\n",
    "    # combine two columns into one in date_time format\n",
    "    df['Date'] = df['Month'].astype(str) + '-' + df['Year'].astype(str)\n",
    "    df['Date'] = pd.to_datetime(df['Date'], format='%m-%Y').dt.strftime('%m-%Y')\n",
    "    df = df.groupby('Date', as_index=False).mean()\n",
    "\n",
    "    if i == 0:\n",
    "        df.to_csv(temperature_data_path, mode = 'a')\n",
    "    else:    \n",
    "        df.to_csv(temperature_data_path, mode = 'a', header = False)\n",
    "df.head(5) # just for printing, to show the result"
   ]
  },
  {
   "cell_type": "markdown",
   "metadata": {},
   "source": [
    "### Step 2.2 Prepare precipitation data\n",
    "\n",
    "Same story is with precipitation, first list of columns headers."
   ]
  },
  {
   "cell_type": "code",
   "execution_count": 6,
   "metadata": {},
   "outputs": [
    {
     "name": "stdout",
     "output_type": "stream",
     "text": [
      "-1\t\n",
      "\n",
      "0\tKod stacji                                        9\n",
      "\n",
      "1\tNazwa stacji                                     30\n",
      "\n",
      "2\tRok                                               4\n",
      "\n",
      "3\tMiesiąc                                           2\n",
      "\n",
      "4\tMiesięczna suma opadów [mm]                       8/1\n",
      "\n",
      "5\tStatus pomiaru SUMM                               1\n",
      "\n",
      "6\tLiczba dni z opadem śniegu                        5\n",
      "\n",
      "7\tStatus pomiaru LDS                                1\n",
      "\n",
      "8\tOpad maksymalny [mm]                              8/1\n",
      "\n",
      "9\tStatus pomiaru MAXO                               1\n",
      "\n",
      "10\tDzień pierwszy wystąpienia opadu maksymalnego     2\n",
      "\n",
      "11\tDzień ostatni wystąpienia opadu maksymalnego      2\n",
      "\n",
      "12\tLiczba dni z pokrywą śnieżną                      5\n",
      "\n",
      "13\tStatus pomiaru LDPS                               1\n",
      "\n",
      "14\t\n",
      "\n",
      "15\tStatus \"8\" brak pomiaru\n",
      "\n",
      "16\tStatus \"9\" brak zjawiska\n"
     ]
    }
   ],
   "source": [
    "f = open(precipitation_report_dic_path)\n",
    "index = -1\n",
    "for line in f:\n",
    "    print('{}\\t{}'.format(index,line))\n",
    "    index += 1\n",
    "f.close()"
   ]
  },
  {
   "cell_type": "markdown",
   "metadata": {},
   "source": [
    "Next, precipitation data are prepared in similar manner as it was for temperatures. "
   ]
  },
  {
   "cell_type": "code",
   "execution_count": 7,
   "metadata": {},
   "outputs": [
    {
     "data": {
      "text/html": [
       "<div>\n",
       "<style scoped>\n",
       "    .dataframe tbody tr th:only-of-type {\n",
       "        vertical-align: middle;\n",
       "    }\n",
       "\n",
       "    .dataframe tbody tr th {\n",
       "        vertical-align: top;\n",
       "    }\n",
       "\n",
       "    .dataframe thead th {\n",
       "        text-align: right;\n",
       "    }\n",
       "</style>\n",
       "<table border=\"1\" class=\"dataframe\">\n",
       "  <thead>\n",
       "    <tr style=\"text-align: right;\">\n",
       "      <th></th>\n",
       "      <th>Date</th>\n",
       "      <th>Year</th>\n",
       "      <th>Month</th>\n",
       "      <th>Precipitation [mm]</th>\n",
       "    </tr>\n",
       "  </thead>\n",
       "  <tbody>\n",
       "    <tr>\n",
       "      <th>0</th>\n",
       "      <td>01-2019</td>\n",
       "      <td>2019</td>\n",
       "      <td>1</td>\n",
       "      <td>65.250000</td>\n",
       "    </tr>\n",
       "    <tr>\n",
       "      <th>1</th>\n",
       "      <td>02-2019</td>\n",
       "      <td>2019</td>\n",
       "      <td>2</td>\n",
       "      <td>30.158246</td>\n",
       "    </tr>\n",
       "    <tr>\n",
       "      <th>2</th>\n",
       "      <td>03-2019</td>\n",
       "      <td>2019</td>\n",
       "      <td>3</td>\n",
       "      <td>44.762105</td>\n",
       "    </tr>\n",
       "    <tr>\n",
       "      <th>3</th>\n",
       "      <td>04-2019</td>\n",
       "      <td>2019</td>\n",
       "      <td>4</td>\n",
       "      <td>25.032399</td>\n",
       "    </tr>\n",
       "    <tr>\n",
       "      <th>4</th>\n",
       "      <td>05-2019</td>\n",
       "      <td>2019</td>\n",
       "      <td>5</td>\n",
       "      <td>100.558537</td>\n",
       "    </tr>\n",
       "  </tbody>\n",
       "</table>\n",
       "</div>"
      ],
      "text/plain": [
       "      Date  Year  Month  Precipitation [mm]\n",
       "0  01-2019  2019      1           65.250000\n",
       "1  02-2019  2019      2           30.158246\n",
       "2  03-2019  2019      3           44.762105\n",
       "3  04-2019  2019      4           25.032399\n",
       "4  05-2019  2019      5          100.558537"
      ]
     },
     "execution_count": 7,
     "metadata": {},
     "output_type": "execute_result"
    }
   ],
   "source": [
    "for i in range(len(years)):\n",
    "    df = pd.read_csv(raw_precipitation_report_paths.get(years[i]), header = None, encoding= 'unicode_escape')\n",
    "    df = df.drop(columns=[0, 1, 5, 6, 7, 8, 9, 10, 11, 12, 13])\n",
    "    df = df.rename(columns={2: 'Year', 3: 'Month', 4: 'Precipitation [mm]'})\n",
    "\n",
    "    df['Date'] = df['Month'].astype(str) + '-' + df['Year'].astype(str)\n",
    "    df['Date'] = pd.to_datetime(df['Date'], format='%m-%Y').dt.strftime('%m-%Y')\n",
    "    df = df.groupby('Date', as_index=False).mean()\n",
    "    \n",
    "    if i == 0:\n",
    "        df.to_csv(precipitation_data_path, mode = 'a')\n",
    "    else:    \n",
    "        df.to_csv(precipitation_data_path, mode = 'a', header = False)\n",
    "df.head(5) # just for printing, to show the result"
   ]
  },
  {
   "cell_type": "markdown",
   "metadata": {},
   "source": [
    "### Step 2.3 Prepare crop prices data\n",
    "\n",
    "As crop prices data are taken from different source, they look a little bit different. Downloaded report (`apri_ap_crpouta.tsv`) contains headers, but in *product category* column there is provided a code, which is not a descriptive name, therefore like before a dictionary file has been downloaded with full description for each code."
   ]
  },
  {
   "cell_type": "code",
   "execution_count": 8,
   "metadata": {},
   "outputs": [
    {
     "name": "stdout",
     "output_type": "stream",
     "text": [
      "0\t01110000\tSoft wheat - prices per 100 kg\n",
      "\n",
      "1\t01120000\tDurum wheat - prices per 100 kg\n",
      "\n",
      "2\t01200000\tRye - prices per 100 kg\n",
      "\n",
      "3\t01300000\tBarley - prices per 100 kg\n",
      "\n",
      "4\t01310000\tFeed barley - prices per 100 kg\n",
      "\n",
      "5\t01320000\tMalting barley - prices per 100 kg\n",
      "\n",
      "6\t01400000\tOats - prices per 100 kg\n",
      "\n",
      "7\t01500000\tMaize - prices per 100 kg\n",
      "\n",
      "8\t01600000\tRice - prices per 100 kg\n",
      "\n",
      "9\t01910000\tSorghum - prices per 100 kg\n",
      "\n",
      "10\t01920000\tTriticale - prices per 100 kg\n",
      "\n",
      "11\t02110000\tRape - prices per 100 kg\n",
      "\n",
      "12\t02120000\tSunflowers - prices per 100 kg\n",
      "\n",
      "13\t02130000\tSoya - prices per 100 kg\n",
      "\n",
      "14\t02210000\tDried peas - prices per 100 kg\n",
      "\n",
      "15\t02220000\tDried beans - prices per 100 kg\n",
      "\n",
      "16\t02230000\tBroad beans (dry) - prices per 100 kg\n",
      "\n",
      "17\t02300000\tRaw tobacco: all varieties - prices per 100 kg\n",
      "\n",
      "18\t02400000\tSugar beet: unit value - prices per 1000 kg\n",
      "\n",
      "19\t02911000\tCotton (including seed) - prices per 100 kg\n",
      "\n",
      "20\t02920000\tHops : all varieties - prices per 100 kg\n",
      "\n",
      "21\t02991000\tLentils - prices per 100 kg\n",
      "\n",
      "22\t02992000\tChick peas - prices per 100 kg\n",
      "\n",
      "23\t04110000\tCauliflowers: all qualities - prices per 100 kg\n",
      "\n",
      "24\t04121000\tTomatoes in the open: all qualities - prices per 100 kg\n",
      "\n",
      "25\t04122000\tTomatoes under glass: all qualities - prices per 100 kg\n",
      "\n",
      "26\t04191100\tWhite cabbage: all qualities - prices per 100 kg\n",
      "\n",
      "27\t04191200\tRed cabbage: all qualities - prices per 100 kg\n",
      "\n",
      "28\t04191300\tSavoy cabbage: all qualities - prices per 100 kg\n",
      "\n",
      "29\t04192100\tLettuce in the open: all qualities - prices per 100 kg\n",
      "\n",
      "30\t04192200\tLettuce under glass: all qualities - prices per 100 kg\n",
      "\n",
      "31\t04193000\tSpinach - prices per 100 kg\n",
      "\n",
      "32\t04194100\tCucumbers in the open: all qualities - prices per 100 kg\n",
      "\n",
      "33\t04194200\tCucumbers under glass: all qualities - prices per 100 kg\n",
      "\n",
      "34\t04195000\tCarrots: all qualities - prices per 100 kg\n",
      "\n",
      "35\t04196000\tOnions: all qualities - prices per 100 kg\n",
      "\n",
      "36\t04197000\tGreen beans - prices per 100 kg\n",
      "\n",
      "37\t04198100\tFrench beans: all qualities - prices per 100 kg\n",
      "\n",
      "38\t04199000\tGreen peas: all qualities - prices per 100 kg\n",
      "\n",
      "39\t04199901\tCultivated mushrooms: all qualities - prices per 100 kg\n",
      "\n",
      "40\t04199902\tChicory in the open - prices per 100 kg\n",
      "\n",
      "41\t04199903\tLeeks in the open - prices per 100 kg\n",
      "\n",
      "42\t04199904\tCapsicum (under glass) - prices per 100 kg\n",
      "\n",
      "43\t04199905\tBeetroot - prices per 100 kg\n",
      "\n",
      "44\t04199906\tGarlic - prices per 100 kg\n",
      "\n",
      "45\t04199907\tKohlrabi - prices per 100 kg\n",
      "\n",
      "46\t04199908\tRadish - prices per 100 kg\n",
      "\n",
      "47\t04199909\tBrussels sprouts: all qualities - prices per 100 kg\n",
      "\n",
      "48\t04199910\tAsparagus: all qualities - prices per 100 kg\n",
      "\n",
      "49\t04199911\tCourgettes - prices per 100 kg\n",
      "\n",
      "50\t04199912\tCeleriac: all qualities - prices per 100 kg\n",
      "\n",
      "51\t04199913\tMelons - prices per 100 kg\n",
      "\n",
      "52\t04199914\tWater melons - prices per 100 kg\n",
      "\n",
      "53\t04210000\tRoses - prices per 100 items\n",
      "\n",
      "54\t04220000\tCarnations - prices per 100 items\n",
      "\n",
      "55\t04230000\tChrysanthemums - prices per 100 items\n",
      "\n",
      "56\t04240000\tGladioli - prices per 100 items\n",
      "\n",
      "57\t04250000\tTulips - prices per 100 items\n",
      "\n",
      "58\t04260000\tFreesias - prices per 100 items\n",
      "\n",
      "59\t05110000\tEarly potatoes - prices per 100 kg\n",
      "\n",
      "60\t05120000\tMain crop potatoes - prices per 100 kg\n",
      "\n",
      "61\t05200000\tSeed potatoes\n",
      "\n",
      "62\t05900000\tOther potatoes\n",
      "\n",
      "63\t06110000\tDessert apples: all varieties - prices per 100 kg\n",
      "\n",
      "64\t06120000\tDessert pears: all varieties - prices per 100 kg\n",
      "\n",
      "65\t06130000\tPeaches: all varieties - prices per 100 kg\n",
      "\n",
      "66\t06191100\tCherries: sweet cherries - prices per 100 kg\n",
      "\n",
      "67\t06191200\tCherries: sour cherries - prices per 100 kg\n",
      "\n",
      "68\t06192000\tPlums: all varieties  - prices per 100 kg\n",
      "\n",
      "69\t06193000\tStrawberries: all types of production - prices per 100 kg\n",
      "\n",
      "70\t06193100\tStrawberries in the open - prices per 100 kg\n",
      "\n",
      "71\t06193200\tStrawberries under glass - prices per 100 kg\n",
      "\n",
      "72\t06194110\tWalnuts - prices per 100 kg\n",
      "\n",
      "73\t06194120\tHazelnuts - prices per 100 kg\n",
      "\n",
      "74\t06194130\tAlmonds - prices per 100 kg\n",
      "\n",
      "75\t06194140\tChestnuts - prices per 100 kg\n",
      "\n",
      "76\t06194200\tDried fruit - prices per 100 Kg\n",
      "\n",
      "77\t06310000\tFresh figs - prices per 100 kg\n",
      "\n",
      "78\t06199100\tApricots: all varieties - prices per 100 kg\n",
      "\n",
      "79\t06199200\tRaspberries - prices per 100 kg\n",
      "\n",
      "80\t06199300\tBlackcurrents - prices per 100 kg\n",
      "\n",
      "81\t06210000\tOranges: all varieties - prices per 100 kg\n",
      "\n",
      "82\t06220000\tMandarins: all varieties - prices per 100 kg\n",
      "\n",
      "83\t06230000\tLemons: all varieties - prices per 100 kg\n",
      "\n",
      "84\t06290000\tOther citrus fruit- prices per 100 kg\n",
      "\n",
      "85\t06410000\tDessert grapes: all varieties - prices per 100 kg\n",
      "\n",
      "86\t06490000\tGrapes for wine production (prices per 100 kg) - prices per 100 kg\n",
      "\n",
      "87\t06510000\tTable olives - prices per 100 kg\n",
      "\n",
      "88\t06590000\tOther olives - prices per 100 kg\n",
      "\n",
      "89\t07110000\tVin de pays/Vinho regional/Vino de la tierra - prices per 100 litres\n",
      "\n",
      "90\t07190000\tOther table wine - prices per 100 litres\n",
      "\n",
      "91\t07200000\tQuality wine - prices per 100 litres\n",
      "\n",
      "92\t07900000\tOther wine - prices per 100 litres\n",
      "\n",
      "93\t08100000\tExtra vergine - prices per 100 litres\n",
      "\n",
      "94\t08200000\tSopraffino - fine - prices per 100 litres\n",
      "\n",
      "95\t08300000\tSemi-fine - prices per 100 litres\n",
      "\n",
      "96\t08400000\tLampante - prices per 100 litres\n",
      "\n",
      "97\t08500000\tOlive Oil virgine - prices per 100 litres\n",
      "\n"
     ]
    }
   ],
   "source": [
    "f = open(crop_categories_dic_path)\n",
    "index = 0\n",
    "for line in f:\n",
    "    print('{}\\t{}'.format(index,line))\n",
    "    index += 1\n",
    "f.close()"
   ]
  },
  {
   "cell_type": "markdown",
   "metadata": {},
   "source": [
    "We're interested in the `01110000\tSoft wheat - prices per 100 kg` product category. Here is the code for data preparation. "
   ]
  },
  {
   "cell_type": "code",
   "execution_count": 9,
   "metadata": {},
   "outputs": [
    {
     "data": {
      "text/html": [
       "<div>\n",
       "<style scoped>\n",
       "    .dataframe tbody tr th:only-of-type {\n",
       "        vertical-align: middle;\n",
       "    }\n",
       "\n",
       "    .dataframe tbody tr th {\n",
       "        vertical-align: top;\n",
       "    }\n",
       "\n",
       "    .dataframe thead th {\n",
       "        text-align: right;\n",
       "    }\n",
       "</style>\n",
       "<table border=\"1\" class=\"dataframe\">\n",
       "  <thead>\n",
       "    <tr style=\"text-align: right;\">\n",
       "      <th></th>\n",
       "      <th>Year</th>\n",
       "      <th>Soft wheat prices [EUR per 100 kg]</th>\n",
       "    </tr>\n",
       "  </thead>\n",
       "  <tbody>\n",
       "    <tr>\n",
       "      <th>0</th>\n",
       "      <td>2000</td>\n",
       "      <td>12.68</td>\n",
       "    </tr>\n",
       "    <tr>\n",
       "      <th>1</th>\n",
       "      <td>2001</td>\n",
       "      <td>13.74</td>\n",
       "    </tr>\n",
       "    <tr>\n",
       "      <th>2</th>\n",
       "      <td>2002</td>\n",
       "      <td>11.31</td>\n",
       "    </tr>\n",
       "    <tr>\n",
       "      <th>3</th>\n",
       "      <td>2003</td>\n",
       "      <td>10.34</td>\n",
       "    </tr>\n",
       "    <tr>\n",
       "      <th>4</th>\n",
       "      <td>2004</td>\n",
       "      <td>10.42</td>\n",
       "    </tr>\n",
       "  </tbody>\n",
       "</table>\n",
       "</div>"
      ],
      "text/plain": [
       "    Year Soft wheat prices [EUR per 100 kg]\n",
       "0  2000                              12.68 \n",
       "1  2001                              13.74 \n",
       "2  2002                              11.31 \n",
       "3  2003                              10.34 \n",
       "4  2004                              10.42 "
      ]
     },
     "execution_count": 9,
     "metadata": {},
     "output_type": "execute_result"
    }
   ],
   "source": [
    "df = pd.read_csv(raw_crop_prices_report_path, sep = '\\t')\n",
    "\n",
    "# splitting one column into three by ',' \n",
    "df = pd.concat([df['currency,prod_veg,geo\\\\time'].str.split(',', expand=True), df], axis=1)\n",
    "df = df.rename(columns={0: 'Currency', 1: 'Product category code', 2: 'Country'})\n",
    "\n",
    "df = df[(df['Product category code'] == '01110000') & (df['Country'] == 'PL') & (df['Currency'] == 'EUR')]\n",
    "df = df.drop(columns=['Currency', 'Product category code', 'Country', 'currency,prod_veg,geo\\\\time'])\n",
    "\n",
    "# transpose data and reset indexes\n",
    "df = df.transpose()\n",
    "df['Year'] = df.index\n",
    "df = df.rename(columns={19: 'Soft wheat prices [EUR per 100 kg]'})\n",
    "df = df[['Year', 'Soft wheat prices [EUR per 100 kg]']]\n",
    "df = df.sort_values(by=['Year'])\n",
    "df.reset_index(drop=True, inplace=True)\n",
    "\n",
    "# remove unwanted character\n",
    "df['Soft wheat prices [EUR per 100 kg]'] = df['Soft wheat prices [EUR per 100 kg]'].str.replace(r'p', '')\n",
    "\n",
    "df.to_csv(crops_data_path)\n",
    "\n",
    "df.head(5) # just for printing, to show the result"
   ]
  },
  {
   "cell_type": "markdown",
   "metadata": {},
   "source": [
    "## Step 3 Data visualization\n",
    "---\n",
    "\n",
    "Data are now prepared and stored in `data/processed` folder. So now it's time visualize them on charts. \n",
    "\n",
    "First step, would be to import necessary libraries and read `.csv` files with prepared data."
   ]
  },
  {
   "cell_type": "code",
   "execution_count": 10,
   "metadata": {},
   "outputs": [],
   "source": [
    "import matplotlib.pyplot as plt\n",
    "import datetime\n",
    "\n",
    "temperature_df = pd.read_csv(temperature_data_path)\n",
    "precipitation_df = pd.read_csv(precipitation_data_path)\n",
    "crops_df = pd.read_csv(crops_data_path)"
   ]
  },
  {
   "cell_type": "markdown",
   "metadata": {},
   "source": [
    "### Step 3.1 Average monthly & annual temperatures in Poland chart\n",
    "---\n",
    "\n",
    "Original dataset contains average monthly temperatures, which will be ploted on a chart. For training the machine learning model we need to have an annual average temperature (wheat prices are provided in this format), therefore a second chart will be plotted with an average temperature in Poland for each year."
   ]
  },
  {
   "cell_type": "code",
   "execution_count": 11,
   "metadata": {},
   "outputs": [
    {
     "ename": "ValueError",
     "evalue": "time data 'Date' does not match format '%m-%Y'",
     "output_type": "error",
     "traceback": [
      "\u001b[1;31m---------------------------------------------------------------------------\u001b[0m",
      "\u001b[1;31mValueError\u001b[0m                                Traceback (most recent call last)",
      "\u001b[1;32m<ipython-input-11-c71140ddeecb>\u001b[0m in \u001b[0;36m<module>\u001b[1;34m\u001b[0m\n\u001b[1;32m----> 1\u001b[1;33m \u001b[0mx\u001b[0m \u001b[1;33m=\u001b[0m \u001b[1;33m[\u001b[0m\u001b[0mdatetime\u001b[0m\u001b[1;33m.\u001b[0m\u001b[0mdatetime\u001b[0m\u001b[1;33m.\u001b[0m\u001b[0mstrptime\u001b[0m\u001b[1;33m(\u001b[0m\u001b[0mdate\u001b[0m\u001b[1;33m,\u001b[0m \u001b[1;34m'%m-%Y'\u001b[0m\u001b[1;33m)\u001b[0m \u001b[1;32mfor\u001b[0m \u001b[0mdate\u001b[0m \u001b[1;32min\u001b[0m \u001b[0mtemperature_df\u001b[0m\u001b[1;33m[\u001b[0m\u001b[1;34m'Date'\u001b[0m\u001b[1;33m]\u001b[0m\u001b[1;33m]\u001b[0m\u001b[1;33m\u001b[0m\u001b[1;33m\u001b[0m\u001b[0m\n\u001b[0m\u001b[0;32m      2\u001b[0m \u001b[0mplt\u001b[0m\u001b[1;33m.\u001b[0m\u001b[0mplot\u001b[0m\u001b[1;33m(\u001b[0m\u001b[0mx\u001b[0m\u001b[1;33m,\u001b[0m \u001b[0mtemperature_df\u001b[0m\u001b[1;33m[\u001b[0m\u001b[1;34m'Temperature [°C]'\u001b[0m\u001b[1;33m]\u001b[0m\u001b[1;33m,\u001b[0m \u001b[0mcolor\u001b[0m\u001b[1;33m=\u001b[0m\u001b[1;34m'red'\u001b[0m\u001b[1;33m)\u001b[0m\u001b[1;33m\u001b[0m\u001b[1;33m\u001b[0m\u001b[0m\n\u001b[0;32m      3\u001b[0m \u001b[1;33m\u001b[0m\u001b[0m\n\u001b[0;32m      4\u001b[0m \u001b[0mplt\u001b[0m\u001b[1;33m.\u001b[0m\u001b[0mtitle\u001b[0m\u001b[1;33m(\u001b[0m\u001b[1;34m'Average monthly temperatures in Poland'\u001b[0m\u001b[1;33m)\u001b[0m\u001b[1;33m\u001b[0m\u001b[1;33m\u001b[0m\u001b[0m\n\u001b[0;32m      5\u001b[0m \u001b[0mplt\u001b[0m\u001b[1;33m.\u001b[0m\u001b[0mylabel\u001b[0m\u001b[1;33m(\u001b[0m\u001b[1;34m'Temperature [°C]'\u001b[0m\u001b[1;33m)\u001b[0m\u001b[1;33m\u001b[0m\u001b[1;33m\u001b[0m\u001b[0m\n",
      "\u001b[1;32m<ipython-input-11-c71140ddeecb>\u001b[0m in \u001b[0;36m<listcomp>\u001b[1;34m(.0)\u001b[0m\n\u001b[1;32m----> 1\u001b[1;33m \u001b[0mx\u001b[0m \u001b[1;33m=\u001b[0m \u001b[1;33m[\u001b[0m\u001b[0mdatetime\u001b[0m\u001b[1;33m.\u001b[0m\u001b[0mdatetime\u001b[0m\u001b[1;33m.\u001b[0m\u001b[0mstrptime\u001b[0m\u001b[1;33m(\u001b[0m\u001b[0mdate\u001b[0m\u001b[1;33m,\u001b[0m \u001b[1;34m'%m-%Y'\u001b[0m\u001b[1;33m)\u001b[0m \u001b[1;32mfor\u001b[0m \u001b[0mdate\u001b[0m \u001b[1;32min\u001b[0m \u001b[0mtemperature_df\u001b[0m\u001b[1;33m[\u001b[0m\u001b[1;34m'Date'\u001b[0m\u001b[1;33m]\u001b[0m\u001b[1;33m]\u001b[0m\u001b[1;33m\u001b[0m\u001b[1;33m\u001b[0m\u001b[0m\n\u001b[0m\u001b[0;32m      2\u001b[0m \u001b[0mplt\u001b[0m\u001b[1;33m.\u001b[0m\u001b[0mplot\u001b[0m\u001b[1;33m(\u001b[0m\u001b[0mx\u001b[0m\u001b[1;33m,\u001b[0m \u001b[0mtemperature_df\u001b[0m\u001b[1;33m[\u001b[0m\u001b[1;34m'Temperature [°C]'\u001b[0m\u001b[1;33m]\u001b[0m\u001b[1;33m,\u001b[0m \u001b[0mcolor\u001b[0m\u001b[1;33m=\u001b[0m\u001b[1;34m'red'\u001b[0m\u001b[1;33m)\u001b[0m\u001b[1;33m\u001b[0m\u001b[1;33m\u001b[0m\u001b[0m\n\u001b[0;32m      3\u001b[0m \u001b[1;33m\u001b[0m\u001b[0m\n\u001b[0;32m      4\u001b[0m \u001b[0mplt\u001b[0m\u001b[1;33m.\u001b[0m\u001b[0mtitle\u001b[0m\u001b[1;33m(\u001b[0m\u001b[1;34m'Average monthly temperatures in Poland'\u001b[0m\u001b[1;33m)\u001b[0m\u001b[1;33m\u001b[0m\u001b[1;33m\u001b[0m\u001b[0m\n\u001b[0;32m      5\u001b[0m \u001b[0mplt\u001b[0m\u001b[1;33m.\u001b[0m\u001b[0mylabel\u001b[0m\u001b[1;33m(\u001b[0m\u001b[1;34m'Temperature [°C]'\u001b[0m\u001b[1;33m)\u001b[0m\u001b[1;33m\u001b[0m\u001b[1;33m\u001b[0m\u001b[0m\n",
      "\u001b[1;32mc:\\program files\\python38\\lib\\_strptime.py\u001b[0m in \u001b[0;36m_strptime_datetime\u001b[1;34m(cls, data_string, format)\u001b[0m\n\u001b[0;32m    566\u001b[0m     \"\"\"Return a class cls instance based on the input string and the\n\u001b[0;32m    567\u001b[0m     format string.\"\"\"\n\u001b[1;32m--> 568\u001b[1;33m     \u001b[0mtt\u001b[0m\u001b[1;33m,\u001b[0m \u001b[0mfraction\u001b[0m\u001b[1;33m,\u001b[0m \u001b[0mgmtoff_fraction\u001b[0m \u001b[1;33m=\u001b[0m \u001b[0m_strptime\u001b[0m\u001b[1;33m(\u001b[0m\u001b[0mdata_string\u001b[0m\u001b[1;33m,\u001b[0m \u001b[0mformat\u001b[0m\u001b[1;33m)\u001b[0m\u001b[1;33m\u001b[0m\u001b[1;33m\u001b[0m\u001b[0m\n\u001b[0m\u001b[0;32m    569\u001b[0m     \u001b[0mtzname\u001b[0m\u001b[1;33m,\u001b[0m \u001b[0mgmtoff\u001b[0m \u001b[1;33m=\u001b[0m \u001b[0mtt\u001b[0m\u001b[1;33m[\u001b[0m\u001b[1;33m-\u001b[0m\u001b[1;36m2\u001b[0m\u001b[1;33m:\u001b[0m\u001b[1;33m]\u001b[0m\u001b[1;33m\u001b[0m\u001b[1;33m\u001b[0m\u001b[0m\n\u001b[0;32m    570\u001b[0m     \u001b[0margs\u001b[0m \u001b[1;33m=\u001b[0m \u001b[0mtt\u001b[0m\u001b[1;33m[\u001b[0m\u001b[1;33m:\u001b[0m\u001b[1;36m6\u001b[0m\u001b[1;33m]\u001b[0m \u001b[1;33m+\u001b[0m \u001b[1;33m(\u001b[0m\u001b[0mfraction\u001b[0m\u001b[1;33m,\u001b[0m\u001b[1;33m)\u001b[0m\u001b[1;33m\u001b[0m\u001b[1;33m\u001b[0m\u001b[0m\n",
      "\u001b[1;32mc:\\program files\\python38\\lib\\_strptime.py\u001b[0m in \u001b[0;36m_strptime\u001b[1;34m(data_string, format)\u001b[0m\n\u001b[0;32m    347\u001b[0m     \u001b[0mfound\u001b[0m \u001b[1;33m=\u001b[0m \u001b[0mformat_regex\u001b[0m\u001b[1;33m.\u001b[0m\u001b[0mmatch\u001b[0m\u001b[1;33m(\u001b[0m\u001b[0mdata_string\u001b[0m\u001b[1;33m)\u001b[0m\u001b[1;33m\u001b[0m\u001b[1;33m\u001b[0m\u001b[0m\n\u001b[0;32m    348\u001b[0m     \u001b[1;32mif\u001b[0m \u001b[1;32mnot\u001b[0m \u001b[0mfound\u001b[0m\u001b[1;33m:\u001b[0m\u001b[1;33m\u001b[0m\u001b[1;33m\u001b[0m\u001b[0m\n\u001b[1;32m--> 349\u001b[1;33m         raise ValueError(\"time data %r does not match format %r\" %\n\u001b[0m\u001b[0;32m    350\u001b[0m                          (data_string, format))\n\u001b[0;32m    351\u001b[0m     \u001b[1;32mif\u001b[0m \u001b[0mlen\u001b[0m\u001b[1;33m(\u001b[0m\u001b[0mdata_string\u001b[0m\u001b[1;33m)\u001b[0m \u001b[1;33m!=\u001b[0m \u001b[0mfound\u001b[0m\u001b[1;33m.\u001b[0m\u001b[0mend\u001b[0m\u001b[1;33m(\u001b[0m\u001b[1;33m)\u001b[0m\u001b[1;33m:\u001b[0m\u001b[1;33m\u001b[0m\u001b[1;33m\u001b[0m\u001b[0m\n",
      "\u001b[1;31mValueError\u001b[0m: time data 'Date' does not match format '%m-%Y'"
     ]
    }
   ],
   "source": [
    "x = [datetime.datetime.strptime(date, '%m-%Y') for date in temperature_df['Date']]\n",
    "plt.plot(x, temperature_df['Temperature [°C]'], color='red')\n",
    "\n",
    "plt.title('Average monthly temperatures in Poland')\n",
    "plt.ylabel('Temperature [°C]')\n",
    "plt.xlabel('Year')\n",
    "plt.xticks(rotation=45)\n",
    "plt.grid()\n",
    "plt.show()"
   ]
  },
  {
   "cell_type": "code",
   "execution_count": null,
   "metadata": {},
   "outputs": [],
   "source": [
    "x = list(dict.fromkeys([datetime.datetime(year, 1, 1) for year in temperature_df['Year']]))\n",
    "y = temperature_df.groupby('Year').mean()['Temperature [°C]'].values\n",
    "\n",
    "plt.plot(x, y, color='red')\n",
    "\n",
    "plt.title('Average annual temperatures in Poland')\n",
    "plt.ylabel('Temperature [°C]')\n",
    "plt.xlabel('Year')\n",
    "plt.xticks(rotation=45)\n",
    "plt.grid()\n",
    "plt.show()"
   ]
  },
  {
   "cell_type": "markdown",
   "metadata": {},
   "source": [
    "### 3.2 Average monthly & annual precipitation in Poland\n",
    "---"
   ]
  },
  {
   "cell_type": "code",
   "execution_count": null,
   "metadata": {},
   "outputs": [],
   "source": [
    "x = [datetime.datetime.strptime(date, '%m-%Y') for date in precipitation_df['Date']]\n",
    "plt.plot(x, precipitation_df['Precipitation [mm]'], color='blue')\n",
    "\n",
    "plt.title('Average monthly precipitation in Poland')\n",
    "plt.ylabel('Precipitation [mm]')\n",
    "plt.xlabel('Year')\n",
    "plt.xticks(rotation=45)\n",
    "plt.grid()\n",
    "plt.show()"
   ]
  },
  {
   "cell_type": "code",
   "execution_count": null,
   "metadata": {},
   "outputs": [],
   "source": [
    "x = list(dict.fromkeys([datetime.datetime(year, 1, 1) for year in precipitation_df['Year']]))\n",
    "y = precipitation_df.groupby('Year').mean()['Precipitation [mm]'].values\n",
    "\n",
    "plt.plot(x, y, color='blue')\n",
    "\n",
    "plt.title('Average annual precipitation in Poland')\n",
    "plt.ylabel('Precipitation [mm]')\n",
    "plt.xlabel('Year')\n",
    "plt.xticks(rotation=45)\n",
    "plt.grid()\n",
    "plt.show()"
   ]
  },
  {
   "cell_type": "markdown",
   "metadata": {},
   "source": [
    "### 3.3 Annual selling prices of soft wheat in Poland\n",
    "---"
   ]
  },
  {
   "cell_type": "code",
   "execution_count": null,
   "metadata": {},
   "outputs": [],
   "source": [
    "x = [datetime.datetime(year, 1, 1) for year in crops_df['Year']]\n",
    "plt.plot(x, crops_df['Soft wheat prices [EUR per 100 kg]'], color='green')\n",
    "\n",
    "plt.title('Annual selling prices of soft wheat in Poland')\n",
    "plt.ylabel('Soft wheat prices [EUR per 100 kg]')\n",
    "plt.xlabel('Year')\n",
    "plt.xticks(rotation=45)\n",
    "plt.grid()\n",
    "plt.show()"
   ]
  },
  {
   "cell_type": "markdown",
   "metadata": {},
   "source": [
    "## Step 4 Train machine learning models\n",
    "---\n",
    "\n",
    "Now, it's time to train some machine learning regression models to check following hypothesis:\n",
    "**Annual selling price of soft wheat in Poland heavily rely on**:\n",
    "* an average temperature,\n",
    "* an average precipitation volume.\n",
    "\n",
    "For each regression model there will be common steps:\n",
    "* prepare train & test set,\n",
    "* train model,\n",
    "* compare predicted values from the test set with actual values,\n",
    "* evalute the model using $R^2$ score.\n",
    "\n",
    "\n",
    "Before checking each hypothesis let's create a single dataframe that will include all data."
   ]
  },
  {
   "cell_type": "code",
   "execution_count": null,
   "metadata": {},
   "outputs": [],
   "source": [
    "temperature_df = temperature_df.groupby('Year').mean()\n",
    "precipitation_df = precipitation_df.groupby('Year').mean()\n",
    "\n",
    "df = temperature_df.merge(precipitation_df, on='Year').merge(crops_df, on='Year')\n",
    "df = df.drop(columns=['Unnamed: 0_x', 'Month_x', 'Unnamed: 0_y', 'Month_y', 'Unnamed: 0'])\n",
    "df.head(5) # just for printing, to show the result"
   ]
  },
  {
   "cell_type": "markdown",
   "metadata": {},
   "source": [
    "Import `scikit-learn` libraries, create a list that will hold all results and remove *Year* column:"
   ]
  },
  {
   "cell_type": "code",
   "execution_count": null,
   "metadata": {},
   "outputs": [],
   "source": [
    "from sklearn.model_selection import train_test_split\n",
    "from sklearn.metrics import r2_score\n",
    "from sklearn.linear_model import LinearRegression\n",
    "from sklearn.preprocessing import PolynomialFeatures\n",
    "from sklearn.preprocessing import StandardScaler\n",
    "from sklearn.svm import SVR\n",
    "from sklearn.tree import DecisionTreeRegressor\n",
    "from sklearn.ensemble import RandomForestRegressor\n",
    "import numpy as np\n",
    "\n",
    "results_df = pd.DataFrame(columns=['Independent variable', 'Regression Type', 'R^2'])\n",
    "df = df.drop(columns=['Year'])"
   ]
  },
  {
   "cell_type": "markdown",
   "metadata": {},
   "source": [
    "### Step 4.1 Temperature dependece on soft wheat price\n",
    "---\n",
    "\n",
    "First, let's extract x & y values from the dataframe and then split them randomly into train set (will be used to train machine learning models) and test set (to check if model fits observed data)."
   ]
  },
  {
   "cell_type": "code",
   "execution_count": null,
   "metadata": {},
   "outputs": [],
   "source": [
    "x = df.iloc[:, 0].values.reshape(-1, 1)\n",
    "y = df.iloc[:, -1].values\n",
    "\n",
    "x_train, x_test, y_train, y_test = train_test_split(x, y, test_size = 0.2, random_state = 0)"
   ]
  },
  {
   "cell_type": "markdown",
   "metadata": {},
   "source": [
    "#### Step 4.1.1 Linear regression\n",
    "\n",
    "** Training the model**"
   ]
  },
  {
   "cell_type": "code",
   "execution_count": null,
   "metadata": {},
   "outputs": [],
   "source": [
    "linear_model = LinearRegression()\n",
    "linear_model.fit(x_train, y_train)"
   ]
  },
  {
   "cell_type": "markdown",
   "metadata": {},
   "source": [
    "**Compare predicted values from the test set with actual values**"
   ]
  },
  {
   "cell_type": "code",
   "execution_count": null,
   "metadata": {},
   "outputs": [],
   "source": [
    "y_pred = linear_model.predict(x_test)\n",
    "\n",
    "np.set_printoptions(precision=2)\n",
    "print(np.concatenate((y_pred.reshape(len(y_pred),1), y_test.reshape(len(y_test),1)),1))"
   ]
  },
  {
   "cell_type": "markdown",
   "metadata": {},
   "source": [
    "**Evaluate the $R^2$ score**"
   ]
  },
  {
   "cell_type": "code",
   "execution_count": null,
   "metadata": {},
   "outputs": [],
   "source": [
    "r2 = r2_score(y_test, y_pred)\n",
    "results_df = results_df.append({'Independent variable': 'Temperature', 'Regression Type': 'Linear', 'R^2': r2}, ignore_index=True)\n",
    "results_df"
   ]
  },
  {
   "cell_type": "markdown",
   "metadata": {},
   "source": [
    "** Chart with a training set**"
   ]
  },
  {
   "cell_type": "code",
   "execution_count": null,
   "metadata": {},
   "outputs": [],
   "source": [
    "plt.scatter(x_train, y_train, color = 'red')\n",
    "plt.plot(x_train, linear_model.predict(x_train), color = 'blue')\n",
    "plt.title('Soft wheat price vs temperature (Training set) - Linear Regression')\n",
    "plt.xlabel('Temperature [°C]')\n",
    "plt.ylabel('Soft wheat prices [EUR per 100 kg]')\n",
    "plt.grid()\n",
    "plt.show()"
   ]
  },
  {
   "cell_type": "markdown",
   "metadata": {},
   "source": [
    "** Chart with a test set**"
   ]
  },
  {
   "cell_type": "code",
   "execution_count": null,
   "metadata": {},
   "outputs": [],
   "source": [
    "plt.scatter(x_test, y_test, color = 'red')\n",
    "plt.plot(x_train, linear_model.predict(x_train), color = 'blue')\n",
    "plt.title('Soft wheat price vs temperature (Test set)  - Linear Regression')\n",
    "plt.xlabel('Temperature [°C]')\n",
    "plt.ylabel('Soft wheat prices [EUR per 100 kg]')\n",
    "plt.grid()\n",
    "plt.show()"
   ]
  },
  {
   "cell_type": "markdown",
   "metadata": {},
   "source": [
    "#### Step 4.1.2 Polynomial regression\n",
    "\n",
    "** Training the model**"
   ]
  },
  {
   "cell_type": "code",
   "execution_count": null,
   "metadata": {},
   "outputs": [],
   "source": [
    "poly_reg = PolynomialFeatures(degree = 4)\n",
    "x_poly = poly_reg.fit_transform(x_train)\n",
    "poly_model = LinearRegression()\n",
    "poly_model.fit(x_poly, y_train)"
   ]
  },
  {
   "cell_type": "markdown",
   "metadata": {},
   "source": [
    "**Compare predicted values from the test set with actual values**"
   ]
  },
  {
   "cell_type": "code",
   "execution_count": null,
   "metadata": {},
   "outputs": [],
   "source": [
    "y_pred = poly_model.predict(poly_reg.transform(x_test))\n",
    "np.set_printoptions(precision=2)\n",
    "print(np.concatenate((y_pred.reshape(len(y_pred),1), y_test.reshape(len(y_test),1)),1))"
   ]
  },
  {
   "cell_type": "markdown",
   "metadata": {},
   "source": [
    "**Evaluate the $R^2$ score**"
   ]
  },
  {
   "cell_type": "code",
   "execution_count": null,
   "metadata": {},
   "outputs": [],
   "source": [
    "r2 = r2_score(y_test, y_pred)\n",
    "results_df = results_df.append({'Independent variable': 'Temperature', 'Regression Type': 'Polynomial', 'R^2': r2}, ignore_index=True)\n",
    "results_df"
   ]
  },
  {
   "cell_type": "markdown",
   "metadata": {},
   "source": [
    "** Chart with a training set**"
   ]
  },
  {
   "cell_type": "code",
   "execution_count": null,
   "metadata": {},
   "outputs": [],
   "source": [
    "plt.scatter(x_train, y_train, color = 'red')\n",
    "x_plot = np.sort(x_train, axis=0)\n",
    "y_plot = np.sort(poly_model.predict(poly_reg.fit_transform(x_train)))\n",
    "plt.plot(x_plot, y_plot, color = 'blue')\n",
    "plt.title('Soft wheat price vs temperature (Test set) - Polynomial Regression')\n",
    "plt.xlabel('Temperature [°C]')\n",
    "plt.ylabel('Soft wheat prices [EUR per 100 kg]')\n",
    "plt.grid()\n",
    "plt.show()"
   ]
  },
  {
   "cell_type": "markdown",
   "metadata": {},
   "source": [
    "** Chart with a test set**"
   ]
  },
  {
   "cell_type": "code",
   "execution_count": null,
   "metadata": {},
   "outputs": [],
   "source": [
    "plt.scatter(x_test, y_test, color = 'red')\n",
    "x_plot = np.sort(x_train, axis=0)\n",
    "y_plot = np.sort(poly_model.predict(poly_reg.fit_transform(x_train)))\n",
    "plt.plot(x_plot, y_plot, color = 'blue')\n",
    "plt.title('Soft wheat price vs temperature (Training set) - Polynomial Regression')\n",
    "plt.xlabel('Temperature [°C]')\n",
    "plt.ylabel('Soft wheat prices [EUR per 100 kg]')\n",
    "plt.grid()\n",
    "plt.show()"
   ]
  },
  {
   "cell_type": "markdown",
   "metadata": {},
   "source": [
    "#### Step 4.1.3 Support vector regression\n",
    "\n",
    "**Data preparation & training the model**"
   ]
  },
  {
   "cell_type": "code",
   "execution_count": null,
   "metadata": {},
   "outputs": [],
   "source": [
    "sc_x = StandardScaler()\n",
    "sc_y = StandardScaler()\n",
    "x_svr_train = sc_x.fit_transform(x_train)\n",
    "y_svr_train = sc_y.fit_transform(y_train.reshape(-1, 1))\n",
    "\n",
    "x_svr_test = sc_x.fit_transform(x_test)\n",
    "y_svr_test = sc_y.fit_transform(y_test.reshape(-1, 1))\n",
    "\n",
    "svr_model = SVR(kernel = 'rbf')\n",
    "svr_model.fit(x_svr_train, y_svr_train)"
   ]
  },
  {
   "cell_type": "markdown",
   "metadata": {},
   "source": [
    "**Compare predicted values from the test set with actual values**"
   ]
  },
  {
   "cell_type": "code",
   "execution_count": null,
   "metadata": {},
   "outputs": [],
   "source": [
    "y_pred = sc_y.inverse_transform(svr_model.predict(x_svr_test))\n",
    "\n",
    "np.set_printoptions(precision=2)\n",
    "print(np.concatenate((y_pred.reshape(len(y_pred),1), y_test.reshape(len(y_test),1)),1))"
   ]
  },
  {
   "cell_type": "markdown",
   "metadata": {},
   "source": [
    "**Evaluate the $R^2$ score**"
   ]
  },
  {
   "cell_type": "code",
   "execution_count": null,
   "metadata": {},
   "outputs": [],
   "source": [
    "r2 = r2_score(y_test, y_pred)\n",
    "results_df = results_df.append({'Independent variable': 'Temperature', 'Regression Type': 'Support Vector', 'R^2': r2}, ignore_index=True)\n",
    "results_df"
   ]
  },
  {
   "cell_type": "markdown",
   "metadata": {},
   "source": [
    "** Chart with a training set**"
   ]
  },
  {
   "cell_type": "code",
   "execution_count": null,
   "metadata": {},
   "outputs": [],
   "source": [
    "plt.scatter(x_train, y_train, color = 'red')\n",
    "x_plot = np.sort(x_train, axis=0)\n",
    "y_plot = np.sort(sc_y.inverse_transform(svr_model.predict(x_svr_train)))\n",
    "plt.plot(x_plot, y_plot, color = 'blue')\n",
    "plt.title('Soft wheat price vs temperature (Training set) - Support Vector Regression')\n",
    "plt.xlabel('Temperature [°C]')\n",
    "plt.ylabel('Soft wheat prices [EUR per 100 kg]')\n",
    "plt.grid()\n",
    "plt.show()"
   ]
  },
  {
   "cell_type": "markdown",
   "metadata": {},
   "source": [
    "**Chart with a test set**"
   ]
  },
  {
   "cell_type": "code",
   "execution_count": null,
   "metadata": {},
   "outputs": [],
   "source": [
    "plt.scatter(x_test, y_test, color = 'red')\n",
    "x_plot = np.sort(x_train, axis=0)\n",
    "y_plot = np.sort(sc_y.inverse_transform(svr_model.predict(x_svr_train)))\n",
    "plt.plot(x_plot, y_plot, color = 'blue')\n",
    "plt.title('Soft wheat price vs temperature (Test set) - Support Vector Regression')\n",
    "plt.xlabel('Temperature [°C]')\n",
    "plt.ylabel('Soft wheat prices [EUR per 100 kg]')\n",
    "plt.grid()\n",
    "plt.show()"
   ]
  },
  {
   "cell_type": "markdown",
   "metadata": {},
   "source": [
    "#### Step 4.1.4 Decision tree regression\n",
    "\n",
    "** Training the model**"
   ]
  },
  {
   "cell_type": "code",
   "execution_count": null,
   "metadata": {},
   "outputs": [],
   "source": [
    "tree_model = DecisionTreeRegressor(random_state = 0)\n",
    "tree_model.fit(x_train, y_train)"
   ]
  },
  {
   "cell_type": "markdown",
   "metadata": {},
   "source": [
    "**Compare predicted values from the test set with actual values**"
   ]
  },
  {
   "cell_type": "code",
   "execution_count": null,
   "metadata": {},
   "outputs": [],
   "source": [
    "y_pred = tree_model.predict(x_test)\n",
    "np.set_printoptions(precision=2)\n",
    "print(np.concatenate((y_pred.reshape(len(y_pred),1), y_test.reshape(len(y_test),1)),1))"
   ]
  },
  {
   "cell_type": "markdown",
   "metadata": {},
   "source": [
    "**Evaluate the $R^2$ score**"
   ]
  },
  {
   "cell_type": "code",
   "execution_count": null,
   "metadata": {},
   "outputs": [],
   "source": [
    "r2 = r2_score(y_test, y_pred)\n",
    "results_df = results_df.append({'Independent variable': 'Temperature', 'Regression Type': 'Decision Tree', 'R^2': r2}, ignore_index=True)\n",
    "results_df"
   ]
  },
  {
   "cell_type": "markdown",
   "metadata": {},
   "source": [
    "#### Step 4.1.5 Random forest regression\n",
    "\n",
    "** Training the model**"
   ]
  },
  {
   "cell_type": "code",
   "execution_count": null,
   "metadata": {},
   "outputs": [],
   "source": [
    "forest_model = RandomForestRegressor(n_estimators = 10, random_state = 0)\n",
    "forest_model.fit(x_train, y_train)"
   ]
  },
  {
   "cell_type": "markdown",
   "metadata": {},
   "source": [
    "**Compare predicted values from the test set with actual values**"
   ]
  },
  {
   "cell_type": "code",
   "execution_count": null,
   "metadata": {},
   "outputs": [],
   "source": [
    "y_pred = tree_model.predict(x_test)\n",
    "np.set_printoptions(precision=2)\n",
    "print(np.concatenate((y_pred.reshape(len(y_pred),1), y_test.reshape(len(y_test),1)),1))"
   ]
  },
  {
   "cell_type": "markdown",
   "metadata": {},
   "source": [
    "**Evaluate the $R^2$ score**"
   ]
  },
  {
   "cell_type": "code",
   "execution_count": null,
   "metadata": {},
   "outputs": [],
   "source": [
    "r2 = r2_score(y_test, y_pred)\n",
    "results_df = results_df.append({'Independent variable': 'Temperature', 'Regression Type': 'Random Forest', 'R^2': r2}, ignore_index=True)\n",
    "results_df"
   ]
  },
  {
   "cell_type": "markdown",
   "metadata": {},
   "source": [
    "### Step 4.2 Precipitation dependece on soft wheat price\n",
    "---\n",
    "\n",
    "First, let's extract x & y values from the dataframe and then split them randomly into train set (will be used to train machine learning models) and test set (to check if model fits observed data).\n"
   ]
  },
  {
   "cell_type": "code",
   "execution_count": null,
   "metadata": {},
   "outputs": [],
   "source": [
    "x = df.iloc[:, 1].values.reshape(-1, 1)\n",
    "y = df.iloc[:, -1].values\n",
    "\n",
    "x_train, x_test, y_train, y_test = train_test_split(x, y, test_size = 0.2, random_state = 0)"
   ]
  },
  {
   "cell_type": "markdown",
   "metadata": {},
   "source": [
    "#### Step 4.2.1 Linear regression\n",
    "\n",
    "** Training the model**"
   ]
  },
  {
   "cell_type": "code",
   "execution_count": null,
   "metadata": {},
   "outputs": [],
   "source": [
    "linear_model = LinearRegression()\n",
    "linear_model.fit(x_train, y_train)"
   ]
  },
  {
   "cell_type": "markdown",
   "metadata": {},
   "source": [
    "**Compare predicted values from the test set with actual values**"
   ]
  },
  {
   "cell_type": "code",
   "execution_count": null,
   "metadata": {},
   "outputs": [],
   "source": [
    "y_pred = linear_model.predict(x_test)\n",
    "\n",
    "np.set_printoptions(precision=2)\n",
    "print(np.concatenate((y_pred.reshape(len(y_pred),1), y_test.reshape(len(y_test),1)),1))"
   ]
  },
  {
   "cell_type": "markdown",
   "metadata": {},
   "source": [
    "**Evaluate the $R^2$ score**"
   ]
  },
  {
   "cell_type": "code",
   "execution_count": null,
   "metadata": {},
   "outputs": [],
   "source": [
    "r2 = r2_score(y_test, y_pred)\n",
    "results_df = results_df.append({'Independent variable': 'Precipitation', 'Regression Type': 'Linear', 'R^2': r2}, ignore_index=True)\n",
    "results_df"
   ]
  },
  {
   "cell_type": "markdown",
   "metadata": {},
   "source": [
    "** Chart with a training set**"
   ]
  },
  {
   "cell_type": "code",
   "execution_count": null,
   "metadata": {},
   "outputs": [],
   "source": [
    "plt.scatter(x_train, y_train, color = 'red')\n",
    "plt.plot(x_train, linear_model.predict(x_train), color = 'blue')\n",
    "plt.title('Soft wheat price vs precipitation (Training set) - Linear Regression')\n",
    "plt.xlabel('Precipitation [mm]')\n",
    "plt.ylabel('Soft wheat prices [EUR per 100 kg]')\n",
    "plt.grid()\n",
    "plt.show()"
   ]
  },
  {
   "cell_type": "markdown",
   "metadata": {},
   "source": [
    "**Chart with a test set**"
   ]
  },
  {
   "cell_type": "code",
   "execution_count": null,
   "metadata": {},
   "outputs": [],
   "source": [
    "plt.scatter(x_test, y_test, color = 'red')\n",
    "plt.plot(x_train, linear_model.predict(x_train), color = 'blue')\n",
    "plt.title('Soft wheat price vs precipitation (Test set) - Linear Regression')\n",
    "plt.xlabel('Precipitation [mm]')\n",
    "plt.ylabel('Soft wheat prices [EUR per 100 kg]')\n",
    "plt.grid()\n",
    "plt.show()"
   ]
  },
  {
   "cell_type": "markdown",
   "metadata": {},
   "source": [
    "#### Step 4.2.2 Polynomial regression\n",
    "\n",
    "** Training the model**"
   ]
  },
  {
   "cell_type": "code",
   "execution_count": null,
   "metadata": {},
   "outputs": [],
   "source": [
    "poly_reg = PolynomialFeatures(degree = 4)\n",
    "x_poly = poly_reg.fit_transform(x_train)\n",
    "poly_model = LinearRegression()\n",
    "poly_model.fit(x_poly, y_train)"
   ]
  },
  {
   "cell_type": "markdown",
   "metadata": {},
   "source": [
    "** Compare predicted values from the test set with actual values **"
   ]
  },
  {
   "cell_type": "code",
   "execution_count": null,
   "metadata": {},
   "outputs": [],
   "source": [
    "y_pred = poly_model.predict(poly_reg.transform(x_test))\n",
    "np.set_printoptions(precision=2)\n",
    "print(np.concatenate((y_pred.reshape(len(y_pred),1), y_test.reshape(len(y_test),1)),1))"
   ]
  },
  {
   "cell_type": "markdown",
   "metadata": {},
   "source": [
    "**Evaluate the $R^2$ score**"
   ]
  },
  {
   "cell_type": "code",
   "execution_count": null,
   "metadata": {},
   "outputs": [],
   "source": [
    "r2 = r2_score(y_test, y_pred)\n",
    "results_df = results_df.append({'Independent variable': 'Precipitation', 'Regression Type': 'Polynomial', 'R^2': r2}, ignore_index=True)\n",
    "results_df"
   ]
  },
  {
   "cell_type": "markdown",
   "metadata": {},
   "source": [
    "** Chart with a training set**"
   ]
  },
  {
   "cell_type": "code",
   "execution_count": null,
   "metadata": {},
   "outputs": [],
   "source": [
    "plt.scatter(x_train, y_train, color = 'red')\n",
    "x_plot = np.sort(x_train, axis=0)\n",
    "y_plot = np.sort(poly_model.predict(poly_reg.fit_transform(x_train)))\n",
    "plt.plot(x_plot, y_plot, color = 'blue')\n",
    "plt.title('Soft wheat price vs precipitation (Training set) - Polynomial Regression')\n",
    "plt.xlabel('Precipitation [mm]')\n",
    "plt.ylabel('Soft wheat prices [EUR per 100 kg]')\n",
    "plt.grid()\n",
    "plt.show()"
   ]
  },
  {
   "cell_type": "markdown",
   "metadata": {},
   "source": [
    "** Chart with a test set**"
   ]
  },
  {
   "cell_type": "code",
   "execution_count": null,
   "metadata": {},
   "outputs": [],
   "source": [
    "plt.scatter(x_test, y_test, color = 'red')\n",
    "x_plot = np.sort(x_train, axis=0)\n",
    "y_plot = np.sort(poly_model.predict(poly_reg.fit_transform(x_train)))\n",
    "plt.plot(x_plot, y_plot, color = 'blue')\n",
    "plt.title('Soft wheat price vs precipitation (Test set) - Polynomial Regression')\n",
    "plt.xlabel('Precipitation [mm]')\n",
    "plt.ylabel('Soft wheat prices [EUR per 100 kg]')\n",
    "plt.grid()\n",
    "plt.show()"
   ]
  },
  {
   "cell_type": "markdown",
   "metadata": {},
   "source": [
    "#### Step 4.2.3 Support vector regression\n",
    "\n",
    "**Data preparation & training the model**"
   ]
  },
  {
   "cell_type": "code",
   "execution_count": null,
   "metadata": {},
   "outputs": [],
   "source": [
    "sc_x = StandardScaler()\n",
    "sc_y = StandardScaler()\n",
    "x_svr_train = sc_x.fit_transform(x_train)\n",
    "y_svr_train = sc_y.fit_transform(y_train.reshape(-1, 1))\n",
    "\n",
    "x_svr_test = sc_x.fit_transform(x_test)\n",
    "y_svr_test = sc_y.fit_transform(y_test.reshape(-1, 1))\n",
    "\n",
    "svr_model = SVR(kernel = 'rbf')\n",
    "svr_model.fit(x_svr_train, y_svr_train)"
   ]
  },
  {
   "cell_type": "markdown",
   "metadata": {},
   "source": [
    "** Compare predicted values from the test set with actual values **"
   ]
  },
  {
   "cell_type": "code",
   "execution_count": null,
   "metadata": {},
   "outputs": [],
   "source": [
    "y_pred = sc_y.inverse_transform(svr_model.predict(x_svr_test))\n",
    "\n",
    "np.set_printoptions(precision=2)\n",
    "print(np.concatenate((y_pred.reshape(len(y_pred),1), y_test.reshape(len(y_test),1)),1))"
   ]
  },
  {
   "cell_type": "markdown",
   "metadata": {},
   "source": [
    "**Evaluate the $R^2$ score**"
   ]
  },
  {
   "cell_type": "code",
   "execution_count": null,
   "metadata": {},
   "outputs": [],
   "source": [
    "r2 = r2_score(y_test, y_pred)\n",
    "results_df = results_df.append({'Independent variable': 'Precipitation', 'Regression Type': 'Support Vector', 'R^2': r2}, ignore_index=True)\n",
    "results_df"
   ]
  },
  {
   "cell_type": "markdown",
   "metadata": {},
   "source": [
    "**Chart with a training set**"
   ]
  },
  {
   "cell_type": "code",
   "execution_count": null,
   "metadata": {},
   "outputs": [],
   "source": [
    "plt.scatter(x_train, y_train, color = 'red')\n",
    "x_plot = np.sort(x_train, axis=0)\n",
    "y_plot = np.sort(sc_y.inverse_transform(svr_model.predict(x_svr_train)))\n",
    "plt.plot(x_plot, y_plot, color = 'blue')\n",
    "plt.title('Soft wheat price vs precipitation (Training set) - Support Vector Regression')\n",
    "plt.xlabel('Precipitation [mm]')\n",
    "plt.ylabel('Soft wheat prices [EUR per 100 kg]')\n",
    "plt.grid()\n",
    "plt.show()"
   ]
  },
  {
   "cell_type": "markdown",
   "metadata": {},
   "source": [
    "** Chart with a test set**"
   ]
  },
  {
   "cell_type": "code",
   "execution_count": null,
   "metadata": {},
   "outputs": [],
   "source": [
    "plt.scatter(x_test, y_test, color = 'red')\n",
    "x_plot = np.sort(x_train, axis=0)\n",
    "y_plot = np.sort(sc_y.inverse_transform(svr_model.predict(x_svr_train)))\n",
    "plt.plot(x_plot, y_plot, color = 'blue')\n",
    "plt.title('Soft wheat price vs precipitation (Test set) - Support Vector Regression')\n",
    "plt.xlabel('Precipitation [mm]')\n",
    "plt.ylabel('Soft wheat prices [EUR per 100 kg]')\n",
    "plt.grid()\n",
    "plt.show()"
   ]
  },
  {
   "cell_type": "markdown",
   "metadata": {},
   "source": [
    "#### Step 4.2.4 Decision tree regression\n",
    "\n",
    "** Training the model**"
   ]
  },
  {
   "cell_type": "code",
   "execution_count": null,
   "metadata": {},
   "outputs": [],
   "source": [
    "tree_model = DecisionTreeRegressor(random_state = 0)\n",
    "tree_model.fit(x_train, y_train)"
   ]
  },
  {
   "cell_type": "markdown",
   "metadata": {},
   "source": [
    "** Compare predicted values from the test set with actual values **"
   ]
  },
  {
   "cell_type": "code",
   "execution_count": null,
   "metadata": {},
   "outputs": [],
   "source": [
    "y_pred = tree_model.predict(x_test)\n",
    "np.set_printoptions(precision=2)\n",
    "print(np.concatenate((y_pred.reshape(len(y_pred),1), y_test.reshape(len(y_test),1)),1))"
   ]
  },
  {
   "cell_type": "markdown",
   "metadata": {},
   "source": [
    "**$R^2$ score**"
   ]
  },
  {
   "cell_type": "code",
   "execution_count": null,
   "metadata": {},
   "outputs": [],
   "source": [
    "r2 = r2_score(y_test, y_pred)\n",
    "results_df = results_df.append({'Independent variable': 'Precipitation', 'Regression Type': 'Decision Tree', 'R^2': r2}, ignore_index=True)\n",
    "results_df"
   ]
  },
  {
   "cell_type": "markdown",
   "metadata": {},
   "source": [
    "#### Step 4.1.5 Random forest regression\n",
    "\n",
    "** Training the model**"
   ]
  },
  {
   "cell_type": "code",
   "execution_count": null,
   "metadata": {},
   "outputs": [],
   "source": [
    "forest_model = RandomForestRegressor(n_estimators = 10, random_state = 0)\n",
    "forest_model.fit(x_train, y_train)"
   ]
  },
  {
   "cell_type": "markdown",
   "metadata": {},
   "source": [
    "** Compare predicted values from the test set with actual values **"
   ]
  },
  {
   "cell_type": "code",
   "execution_count": null,
   "metadata": {},
   "outputs": [],
   "source": [
    "y_pred = forest_model.predict(x_test)\n",
    "np.set_printoptions(precision=2)\n",
    "print(np.concatenate((y_pred.reshape(len(y_pred),1), y_test.reshape(len(y_test),1)),1))"
   ]
  },
  {
   "cell_type": "markdown",
   "metadata": {},
   "source": [
    "**Evaluate the $R^2$ score**"
   ]
  },
  {
   "cell_type": "code",
   "execution_count": null,
   "metadata": {},
   "outputs": [],
   "source": [
    "r2 = r2_score(y_test, y_pred)\n",
    "results_df = results_df.append({'Independent variable': 'Precipitation', 'Regression Type': 'Random Forest', 'R^2': r2}, ignore_index=True)\n",
    "results_df"
   ]
  },
  {
   "cell_type": "markdown",
   "metadata": {},
   "source": [
    "## Step 5 Results\n",
    "---\n",
    "* Below there is a table with final results for all regression models. As you can see none of them is not even close to be a good candidate. The reason for that is probably because the price of wheat is depended neither on the annual average temperature nor on annual average precipitation.\n",
    "* Another possible explanation is that the annual average values should not be anaylsed, maybe data needs to be more detailed (not annual, but monthly?). \n",
    "* Anyway, this project is just for fun, to learn how to train couple machine learning models. If you have any comment on that, or suggestion how it can be better, let me know."
   ]
  },
  {
   "cell_type": "code",
   "execution_count": null,
   "metadata": {},
   "outputs": [],
   "source": [
    "results_df"
   ]
  }
 ],
 "metadata": {
  "kernelspec": {
   "display_name": "Python 3.8.1 64-bit ('polish-crops': pipenv)",
   "language": "python",
   "name": "python38164bitpolishcropspipenv12b83f0b5c5e4c09bfffd12f1824ec59"
  },
  "language_info": {
   "codemirror_mode": {
    "name": "ipython",
    "version": 3
   },
   "file_extension": ".py",
   "mimetype": "text/x-python",
   "name": "python",
   "nbconvert_exporter": "python",
   "pygments_lexer": "ipython3",
   "version": "3.8.1"
  },
  "toc": {
   "base_numbering": 1,
   "nav_menu": {},
   "number_sections": true,
   "sideBar": true,
   "skip_h1_title": false,
   "title_cell": "Table of Contents",
   "title_sidebar": "Contents",
   "toc_cell": false,
   "toc_position": {},
   "toc_section_display": true,
   "toc_window_display": false
  }
 },
 "nbformat": 4,
 "nbformat_minor": 2
}
