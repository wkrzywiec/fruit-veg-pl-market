{
 "cells": [
  {
   "cell_type": "markdown",
   "metadata": {},
   "source": [
    "# Polish Crops analysis\n",
    "\n",
    "With this notebook I would like to playaround some machine learning Python tools. \n",
    "\n",
    "Therefore I've decided to create this simple project, in which I want to check a simple hypothesis - is percipitation and/or temperature in Poland affecting prices of crops (soft wheat). In order to achieve it here are the steps:\n",
    "\n",
    "* **Step 1 Download source reports** - downloading necessary files from publically available databases.\n",
    "\n",
    "* **Step 2 Data preprocessing** - unnecessary data are removed and prepared for further processing.\n",
    "\n",
    "* **Step 3 Data visualization** - plotting couple of charts, just to visualize the downloaded data.\n",
    "\n",
    "* **Step 4 Train machine learning models** - training couple of machine learning regression models to check which one of them fits the best - is it a correlaction between climate (temperature, percipitation) and prices of soft wheat.\n",
    "---"
   ]
  },
  {
   "cell_type": "markdown",
   "metadata": {},
   "source": [
    "## Step 1 Download source reports\n",
    "\n",
    "First you need to download necessary data. They are downloaded from following sources:\n",
    "\n",
    "* [IMGW (Instytut Meteorologii i Gospodarki Wodnej, *eng.* Polish Institute of Meteorology and Water Management)](https://danepubliczne.imgw.pl)\n",
    "* [Eurostat](https://ec.europa.eu/eurostat/data/database)\n",
    "\n",
    "\n",
    "To avoid boilerplate code and to keep this notebook short, inside `./tools` directory there are Python modules that allows to download following reports:\n",
    "\n",
    "* [Monthly tempreture report in Poland](https://dane.imgw.pl/data/dane_pomiarowo_obserwacyjne/dane_meteorologiczne/miesieczne/klimat/)\n",
    "* [Monthly precipitation report in Poland](https://dane.imgw.pl/data/dane_pomiarowo_obserwacyjne/dane_meteorologiczne/miesieczne/opad/)\n",
    "* [Selling prices of crop products (absolute prices) - annual price (from 2000 onwards)](https://ec.europa.eu/eurostat/data/database?p_p_id=NavTreeportletprod_WAR_NavTreeportletprod_INSTANCE_nPqeVbPXRmWQ&p_p_lifecycle=0&p_p_state=pop_up&p_p_mode=view&p_p_col_id=column-2&p_p_col_pos=1&p_p_col_count=2&_NavTreeportletprod_WAR_NavTreeportletprod_INSTANCE_nPqeVbPXRmWQ_nodeInfoService=true&nodeId=98243)\n",
    "\n",
    "Inside reports there are no explanation for every column or for codes inside of some cells, therefore dictionaries file are also need to be downloaded.    "
   ]
  },
  {
   "cell_type": "code",
   "execution_count": 2,
   "metadata": {},
   "outputs": [],
   "source": [
    "years = [2001, 2002, 2003, 2004, 2005, 2006, 2007, 2008, 2009, 2010, 2011, 2012, 2013, 2014, 2015, 2016, 2017, 2018]"
   ]
  },
  {
   "cell_type": "code",
   "execution_count": 3,
   "metadata": {},
   "outputs": [],
   "source": [
    "import tools.imgw as imgw\n",
    "import tools.eurostat as eurostat\n",
    "\n",
    "raw_temperature_report_paths = imgw.download_temperature_reports(years)\n",
    "temperature_report_dic_path = imgw.download_temperature_report_dic()\n",
    "\n",
    "raw_precipitation_report_paths = imgw.download_precipitation_reports(years)\n",
    "precipitation_report_dic_path = imgw.download_precipitation_report_dic()\n",
    "\n",
    "raw_crop_prices_report_path = eurostat.download_crop_prices()\n",
    "crop_categories_dic_path = eurostat.download_crop_categories_dic()"
   ]
  },
  {
   "cell_type": "markdown",
   "metadata": {},
   "source": [
    "## Step 2 Data preprocessing\n",
    "\n",
    "Before training machine learning models or plotting charts, data needs to be prepared. \n",
    "\n",
    "### Step 2.1 Prepare temperature data\n",
    "\n",
    "All temperature report files doesn't have column headers, therefore to check what each one of them mean we need to examin `k_m_t_format.txt` file. Here is a code that prints the headers (unfortunately in polish, I'll translate them in next step)"
   ]
  },
  {
   "cell_type": "code",
   "execution_count": 4,
   "metadata": {},
   "outputs": [
    {
     "output_type": "stream",
     "name": "stdout",
     "text": "-1\t\n\n0\tKod stacji                                       9\n\n1\tNazwa stacji                                    30\n\n2\tRok                                              4\n\n3\tMiesiąc                                          2\n\n4\tŚrednia miesięczna temperatura [°C]              5/1\n\n5\tStatus pomiaru TEMP                              1\n\n6\tŚrednia miesięczna wilgotność względna [%]       8/1\n\n7\tStatus pomiaru WLGS                              1\n\n8\tŚrednia miesięczna prędkość wiatru [m/s]         6/1\n\n9\tStatus pomiaru FWS                               1\n\n10\tŚrednie miesięczne zachmurzenie ogólne [oktanty] 6/1\n\n11\tStatus pomiaru NOS                               1\n\n12\t   \n\n13\tStatus \"8\" brak pomiaru\n"
    }
   ],
   "source": [
    "f = open(temperature_report_dic_path)\n",
    "index = -1\n",
    "for line in f:\n",
    "    print('{}\\t{}'.format(index,line))\n",
    "    index += 1\n",
    "f.close()"
   ]
  },
  {
   "cell_type": "markdown",
   "metadata": {},
   "source": [
    "In previous step, we've downloaded one file per each year, which now needs to combined into single one. Moreover, each of these files has temperature readings for several places across Poland. I've decided to calculate an average temperature for each month for entire Poland."
   ]
  },
  {
   "cell_type": "code",
   "execution_count": 5,
   "metadata": {},
   "outputs": [
    {
     "output_type": "execute_result",
     "data": {
      "text/plain": "      Date  Year  Month  Temperature [°C]\n0  01-2018  2018      1          0.235211\n1  02-2018  2018      2         -4.318310\n2  03-2018  2018      3         -0.677465\n3  04-2018  2018      4         11.971831\n4  05-2018  2018      5         15.518310",
      "text/html": "<div>\n<style scoped>\n    .dataframe tbody tr th:only-of-type {\n        vertical-align: middle;\n    }\n\n    .dataframe tbody tr th {\n        vertical-align: top;\n    }\n\n    .dataframe thead th {\n        text-align: right;\n    }\n</style>\n<table border=\"1\" class=\"dataframe\">\n  <thead>\n    <tr style=\"text-align: right;\">\n      <th></th>\n      <th>Date</th>\n      <th>Year</th>\n      <th>Month</th>\n      <th>Temperature [°C]</th>\n    </tr>\n  </thead>\n  <tbody>\n    <tr>\n      <th>0</th>\n      <td>01-2018</td>\n      <td>2018</td>\n      <td>1</td>\n      <td>0.235211</td>\n    </tr>\n    <tr>\n      <th>1</th>\n      <td>02-2018</td>\n      <td>2018</td>\n      <td>2</td>\n      <td>-4.318310</td>\n    </tr>\n    <tr>\n      <th>2</th>\n      <td>03-2018</td>\n      <td>2018</td>\n      <td>3</td>\n      <td>-0.677465</td>\n    </tr>\n    <tr>\n      <th>3</th>\n      <td>04-2018</td>\n      <td>2018</td>\n      <td>4</td>\n      <td>11.971831</td>\n    </tr>\n    <tr>\n      <th>4</th>\n      <td>05-2018</td>\n      <td>2018</td>\n      <td>5</td>\n      <td>15.518310</td>\n    </tr>\n  </tbody>\n</table>\n</div>"
     },
     "metadata": {},
     "execution_count": 5
    }
   ],
   "source": [
    "import pandas as pd\n",
    "\n",
    "temperature_data_path = 'data/processed/temperature.csv'\n",
    "\n",
    "for i in range(len(years)):\n",
    "    df = pd.read_csv(raw_temperature_report_paths.get(years[i]), header = None, encoding= 'unicode_escape')\n",
    "    df = df.drop(columns=[0, 1, 5, 6, 7, 8, 9, 10, 11])\n",
    "    df = df.rename(columns={2: 'Year', 3: 'Month', 4: 'Temperature [°C]'})\n",
    "\n",
    "    # combine two columns into one in date_time format\n",
    "    df['Date'] = df['Month'].astype(str) + '-' + df['Year'].astype(str)\n",
    "    df['Date'] = pd.to_datetime(df['Date'], format='%m-%Y').dt.strftime('%m-%Y')\n",
    "    df = df.groupby('Date', as_index=False).mean()\n",
    "\n",
    "\n",
    "    if i == 0:\n",
    "        df.to_csv(temperature_data_path, mode = 'a')\n",
    "    else:    \n",
    "        df.to_csv(temperature_data_path, mode = 'a', header = False)\n",
    "df.head(5) # just for printing, to show the result"
   ]
  },
  {
   "cell_type": "markdown",
   "metadata": {},
   "source": [
    "### Step 2.2 Prepare precipitation data\n",
    "\n",
    "Same story is with precipitation, first list of columns headers."
   ]
  },
  {
   "cell_type": "code",
   "execution_count": 6,
   "metadata": {},
   "outputs": [
    {
     "output_type": "stream",
     "name": "stdout",
     "text": "-1\t\n\n0\tKod stacji                                        9\n\n1\tNazwa stacji                                     30\n\n2\tRok                                               4\n\n3\tMiesiąc                                           2\n\n4\tMiesięczna suma opadów [mm]                       8/1\n\n5\tStatus pomiaru SUMM                               1\n\n6\tLiczba dni z opadem śniegu                        5\n\n7\tStatus pomiaru LDS                                1\n\n8\tOpad maksymalny [mm]                              8/1\n\n9\tStatus pomiaru MAXO                               1\n\n10\tDzień pierwszy wystąpienia opadu maksymalnego     2\n\n11\tDzień ostatni wystąpienia opadu maksymalnego      2\n\n12\tLiczba dni z pokrywą śnieżną                      5\n\n13\tStatus pomiaru LDPS                               1\n\n14\t\n\n15\tStatus \"8\" brak pomiaru\n\n16\tStatus \"9\" brak zjawiska\n"
    }
   ],
   "source": [
    "f = open(precipitation_report_dic_path)\n",
    "index = -1\n",
    "for line in f:\n",
    "    print('{}\\t{}'.format(index,line))\n",
    "    index += 1\n",
    "f.close()"
   ]
  },
  {
   "cell_type": "markdown",
   "metadata": {},
   "source": [
    "Next, precipitation data are prepared in similar manner as it was for temperatures. "
   ]
  },
  {
   "cell_type": "code",
   "execution_count": 7,
   "metadata": {},
   "outputs": [
    {
     "output_type": "execute_result",
     "data": {
      "text/plain": "      Date  Year  Month  Precipitation [mm]\n0  01-2018  2018      1           45.995622\n1  02-2018  2018      2           14.471329\n2  03-2018  2018      3           31.855769\n3  04-2018  2018      4           30.442483\n4  05-2018  2018      5           51.478846",
      "text/html": "<div>\n<style scoped>\n    .dataframe tbody tr th:only-of-type {\n        vertical-align: middle;\n    }\n\n    .dataframe tbody tr th {\n        vertical-align: top;\n    }\n\n    .dataframe thead th {\n        text-align: right;\n    }\n</style>\n<table border=\"1\" class=\"dataframe\">\n  <thead>\n    <tr style=\"text-align: right;\">\n      <th></th>\n      <th>Date</th>\n      <th>Year</th>\n      <th>Month</th>\n      <th>Precipitation [mm]</th>\n    </tr>\n  </thead>\n  <tbody>\n    <tr>\n      <th>0</th>\n      <td>01-2018</td>\n      <td>2018</td>\n      <td>1</td>\n      <td>45.995622</td>\n    </tr>\n    <tr>\n      <th>1</th>\n      <td>02-2018</td>\n      <td>2018</td>\n      <td>2</td>\n      <td>14.471329</td>\n    </tr>\n    <tr>\n      <th>2</th>\n      <td>03-2018</td>\n      <td>2018</td>\n      <td>3</td>\n      <td>31.855769</td>\n    </tr>\n    <tr>\n      <th>3</th>\n      <td>04-2018</td>\n      <td>2018</td>\n      <td>4</td>\n      <td>30.442483</td>\n    </tr>\n    <tr>\n      <th>4</th>\n      <td>05-2018</td>\n      <td>2018</td>\n      <td>5</td>\n      <td>51.478846</td>\n    </tr>\n  </tbody>\n</table>\n</div>"
     },
     "metadata": {},
     "execution_count": 7
    }
   ],
   "source": [
    "precipitation_data_path = 'data/processed/precipitation.csv'\n",
    "\n",
    "for i in range(len(years)):\n",
    "    df = pd.read_csv(raw_precipitation_report_paths.get(years[i]), header = None, encoding= 'unicode_escape')\n",
    "    df = df.drop(columns=[0, 1, 5, 6, 7, 8, 9, 10, 11, 12, 13])\n",
    "    df = df.rename(columns={2: 'Year', 3: 'Month', 4: 'Precipitation [mm]'})\n",
    "    df['Date'] = df['Month'].astype(str) + '-' + df['Year'].astype(str)\n",
    "    df['Date'] = pd.to_datetime(df['Date'], format='%m-%Y').dt.strftime('%m-%Y')\n",
    "    df = df.groupby('Date', as_index=False).mean()\n",
    "    if i == 0:\n",
    "        df.to_csv(precipitation_data_path, mode = 'a')\n",
    "    else:    \n",
    "        df.to_csv(precipitation_data_path, mode = 'a', header = False)\n",
    "df.head(5) # just for printing, to show the result"
   ]
  },
  {
   "cell_type": "markdown",
   "metadata": {},
   "source": [
    "### Step 2.3 Prepare crop prices data\n",
    "\n",
    "As crop prices data are taken from different source, they look a little bit different. Downloaded report (`apri_ap_crpouta.tsv`) contains headers, but in *product category* column there is provided a code, which is not a descriptive name, therefore like before a dictionary file has been downloaded with full description for each code."
   ]
  },
  {
   "cell_type": "code",
   "execution_count": 8,
   "metadata": {},
   "outputs": [
    {
     "output_type": "stream",
     "name": "stdout",
     "text": "0\t01110000\tSoft wheat - prices per 100 kg\n\n1\t01120000\tDurum wheat - prices per 100 kg\n\n2\t01200000\tRye - prices per 100 kg\n\n3\t01300000\tBarley - prices per 100 kg\n\n4\t01310000\tFeed barley - prices per 100 kg\n\n5\t01320000\tMalting barley - prices per 100 kg\n\n6\t01400000\tOats - prices per 100 kg\n\n7\t01500000\tMaize - prices per 100 kg\n\n8\t01600000\tRice - prices per 100 kg\n\n9\t01910000\tSorghum - prices per 100 kg\n\n10\t01920000\tTriticale - prices per 100 kg\n\n11\t02110000\tRape - prices per 100 kg\n\n12\t02120000\tSunflowers - prices per 100 kg\n\n13\t02130000\tSoya - prices per 100 kg\n\n14\t02210000\tDried peas - prices per 100 kg\n\n15\t02220000\tDried beans - prices per 100 kg\n\n16\t02230000\tBroad beans (dry) - prices per 100 kg\n\n17\t02300000\tRaw tobacco: all varieties - prices per 100 kg\n\n18\t02400000\tSugar beet: unit value - prices per 1000 kg\n\n19\t02911000\tCotton (including seed) - prices per 100 kg\n\n20\t02920000\tHops : all varieties - prices per 100 kg\n\n21\t02991000\tLentils - prices per 100 kg\n\n22\t02992000\tChick peas - prices per 100 kg\n\n23\t04110000\tCauliflowers: all qualities - prices per 100 kg\n\n24\t04121000\tTomatoes in the open: all qualities - prices per 100 kg\n\n25\t04122000\tTomatoes under glass: all qualities - prices per 100 kg\n\n26\t04191100\tWhite cabbage: all qualities - prices per 100 kg\n\n27\t04191200\tRed cabbage: all qualities - prices per 100 kg\n\n28\t04191300\tSavoy cabbage: all qualities - prices per 100 kg\n\n29\t04192100\tLettuce in the open: all qualities - prices per 100 kg\n\n30\t04192200\tLettuce under glass: all qualities - prices per 100 kg\n\n31\t04193000\tSpinach - prices per 100 kg\n\n32\t04194100\tCucumbers in the open: all qualities - prices per 100 kg\n\n33\t04194200\tCucumbers under glass: all qualities - prices per 100 kg\n\n34\t04195000\tCarrots: all qualities - prices per 100 kg\n\n35\t04196000\tOnions: all qualities - prices per 100 kg\n\n36\t04197000\tGreen beans - prices per 100 kg\n\n37\t04198100\tFrench beans: all qualities - prices per 100 kg\n\n38\t04199000\tGreen peas: all qualities - prices per 100 kg\n\n39\t04199901\tCultivated mushrooms: all qualities - prices per 100 kg\n\n40\t04199902\tChicory in the open - prices per 100 kg\n\n41\t04199903\tLeeks in the open - prices per 100 kg\n\n42\t04199904\tCapsicum (under glass) - prices per 100 kg\n\n43\t04199905\tBeetroot - prices per 100 kg\n\n44\t04199906\tGarlic - prices per 100 kg\n\n45\t04199907\tKohlrabi - prices per 100 kg\n\n46\t04199908\tRadish - prices per 100 kg\n\n47\t04199909\tBrussels sprouts: all qualities - prices per 100 kg\n\n48\t04199910\tAsparagus: all qualities - prices per 100 kg\n\n49\t04199911\tCourgettes - prices per 100 kg\n\n50\t04199912\tCeleriac: all qualities - prices per 100 kg\n\n51\t04199913\tMelons - prices per 100 kg\n\n52\t04199914\tWater melons - prices per 100 kg\n\n53\t04210000\tRoses - prices per 100 items\n\n54\t04220000\tCarnations - prices per 100 items\n\n55\t04230000\tChrysanthemums - prices per 100 items\n\n56\t04240000\tGladioli - prices per 100 items\n\n57\t04250000\tTulips - prices per 100 items\n\n58\t04260000\tFreesias - prices per 100 items\n\n59\t05110000\tEarly potatoes - prices per 100 kg\n\n60\t05120000\tMain crop potatoes - prices per 100 kg\n\n61\t05200000\tSeed potatoes\n\n62\t05900000\tOther potatoes\n\n63\t06110000\tDessert apples: all varieties - prices per 100 kg\n\n64\t06120000\tDessert pears: all varieties - prices per 100 kg\n\n65\t06130000\tPeaches: all varieties - prices per 100 kg\n\n66\t06191100\tCherries: sweet cherries - prices per 100 kg\n\n67\t06191200\tCherries: sour cherries - prices per 100 kg\n\n68\t06192000\tPlums: all varieties  - prices per 100 kg\n\n69\t06193000\tStrawberries: all types of production - prices per 100 kg\n\n70\t06193100\tStrawberries in the open - prices per 100 kg\n\n71\t06193200\tStrawberries under glass - prices per 100 kg\n\n72\t06194110\tWalnuts - prices per 100 kg\n\n73\t06194120\tHazelnuts - prices per 100 kg\n\n74\t06194130\tAlmonds - prices per 100 kg\n\n75\t06194140\tChestnuts - prices per 100 kg\n\n76\t06194200\tDried fruit - prices per 100 Kg\n\n77\t06310000\tFresh figs - prices per 100 kg\n\n78\t06199100\tApricots: all varieties - prices per 100 kg\n\n79\t06199200\tRaspberries - prices per 100 kg\n\n80\t06199300\tBlackcurrents - prices per 100 kg\n\n81\t06210000\tOranges: all varieties - prices per 100 kg\n\n82\t06220000\tMandarins: all varieties - prices per 100 kg\n\n83\t06230000\tLemons: all varieties - prices per 100 kg\n\n84\t06290000\tOther citrus fruit- prices per 100 kg\n\n85\t06410000\tDessert grapes: all varieties - prices per 100 kg\n\n86\t06490000\tGrapes for wine production (prices per 100 kg) - prices per 100 kg\n\n87\t06510000\tTable olives - prices per 100 kg\n\n88\t06590000\tOther olives - prices per 100 kg\n\n89\t07110000\tVin de pays/Vinho regional/Vino de la tierra - prices per 100 litres\n\n90\t07190000\tOther table wine - prices per 100 litres\n\n91\t07200000\tQuality wine - prices per 100 litres\n\n92\t07900000\tOther wine - prices per 100 litres\n\n93\t08100000\tExtra vergine - prices per 100 litres\n\n94\t08200000\tSopraffino - fine - prices per 100 litres\n\n95\t08300000\tSemi-fine - prices per 100 litres\n\n96\t08400000\tLampante - prices per 100 litres\n\n97\t08500000\tOlive Oil virgine - prices per 100 litres\n\n"
    }
   ],
   "source": [
    "f = open(crop_categories_dic_path)\n",
    "index = 0\n",
    "for line in f:\n",
    "    print('{}\\t{}'.format(index,line))\n",
    "    index += 1\n",
    "f.close()"
   ]
  },
  {
   "cell_type": "markdown",
   "metadata": {},
   "source": [
    "We're interested in the `01110000\tSoft wheat - prices per 100 kg` product category. Here is the code for data preparation. "
   ]
  },
  {
   "cell_type": "code",
   "execution_count": 14,
   "metadata": {},
   "outputs": [
    {
     "output_type": "execute_result",
     "data": {
      "text/plain": "    Year Soft wheat prices [EUR per 100 kg]\n0  2000                              12.68 \n1  2001                              13.74 \n2  2002                              11.31 \n3  2003                              10.34 \n4  2004                              10.42 ",
      "text/html": "<div>\n<style scoped>\n    .dataframe tbody tr th:only-of-type {\n        vertical-align: middle;\n    }\n\n    .dataframe tbody tr th {\n        vertical-align: top;\n    }\n\n    .dataframe thead th {\n        text-align: right;\n    }\n</style>\n<table border=\"1\" class=\"dataframe\">\n  <thead>\n    <tr style=\"text-align: right;\">\n      <th></th>\n      <th>Year</th>\n      <th>Soft wheat prices [EUR per 100 kg]</th>\n    </tr>\n  </thead>\n  <tbody>\n    <tr>\n      <th>0</th>\n      <td>2000</td>\n      <td>12.68</td>\n    </tr>\n    <tr>\n      <th>1</th>\n      <td>2001</td>\n      <td>13.74</td>\n    </tr>\n    <tr>\n      <th>2</th>\n      <td>2002</td>\n      <td>11.31</td>\n    </tr>\n    <tr>\n      <th>3</th>\n      <td>2003</td>\n      <td>10.34</td>\n    </tr>\n    <tr>\n      <th>4</th>\n      <td>2004</td>\n      <td>10.42</td>\n    </tr>\n  </tbody>\n</table>\n</div>"
     },
     "metadata": {},
     "execution_count": 14
    }
   ],
   "source": [
    "crops_data_path = 'data/processed/crops.csv'\n",
    "\n",
    "df = pd.read_csv(raw_crop_prices_report_path, sep = '\\t')\n",
    "\n",
    "# splitting one column into three by ',' \n",
    "df = pd.concat([df['currency,prod_veg,geo\\\\time'].str.split(',', expand=True), df], axis=1)\n",
    "df = df.rename(columns={0: 'Currency', 1: 'Product category code', 2: 'Country'})\n",
    "\n",
    "df = df[(df['Product category code'] == '01110000') & (df['Country'] == 'PL') & (df['Currency'] == 'EUR')]\n",
    "df = df.drop(columns=['Currency', 'Product category code', 'Country', 'currency,prod_veg,geo\\\\time'])\n",
    "\n",
    "# transpose data and reset indexes\n",
    "df = df.transpose()\n",
    "df['Year'] = df.index\n",
    "df = df.rename(columns={19: 'Soft wheat prices [EUR per 100 kg]'})\n",
    "df = df[['Year', 'Soft wheat prices [EUR per 100 kg]']]\n",
    "df = df.sort_values(by=['Year'])\n",
    "df.reset_index(drop=True, inplace=True)\n",
    "df.to_csv(crops_data_path)\n",
    "\n",
    "df.head(5) # just for printing, to show the result"
   ]
  },
  {
   "cell_type": "markdown",
   "metadata": {},
   "source": [
    "## Step 3 Data visualization"
   ]
  },
  {
   "cell_type": "markdown",
   "metadata": {},
   "source": [
    "## Step 4 Train machine learning models"
   ]
  }
 ],
 "metadata": {
  "language_info": {
   "codemirror_mode": {
    "name": "ipython",
    "version": 3
   },
   "file_extension": ".py",
   "mimetype": "text/x-python",
   "name": "python",
   "nbconvert_exporter": "python",
   "pygments_lexer": "ipython3",
   "version": "3.8.1-final"
  },
  "orig_nbformat": 2,
  "kernelspec": {
   "name": "python38164bitpolishcropspipenv12b83f0b5c5e4c09bfffd12f1824ec59",
   "display_name": "Python 3.8.1 64-bit ('polish-crops': pipenv)"
  }
 },
 "nbformat": 4,
 "nbformat_minor": 2
}