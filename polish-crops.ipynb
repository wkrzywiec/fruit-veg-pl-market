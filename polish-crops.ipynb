{
 "cells": [
  {
   "cell_type": "markdown",
   "metadata": {},
   "source": [
    "# Polish Crops analysis\n",
    "\n",
    "With this notebook I would like to playaround some machine learning Python tools. \n",
    "\n",
    "Therefore I've decided to create this simple project, in which I want to check a simple hypothesis - is percipitation and/or temperature in Poland affecting prices of crops (soft wheat). In order to achieve it here are the steps:\n",
    "\n",
    "* **Step 1 Download source reports** - downloading necessary files from publically available databases.\n",
    "\n",
    "* **Step 2 Data preprocessing** - unnecessary data are removed and prepared for further processing.\n",
    "\n",
    "* **Step 3 Data visualization** - plotting couple of charts, just to visualize the downloaded data.\n",
    "\n",
    "* **Step 4 Train machine learning models** - training couple of machine learning regression models to check which one of them fits the best - is it a correlaction between climate (temperature, percipitation) and prices of soft wheat.\n",
    "---"
   ]
  },
  {
   "cell_type": "markdown",
   "metadata": {},
   "source": [
    "## Step 1 Download source reports\n",
    "\n",
    "First you need to download necessary data. They are downloaded from following sources:\n",
    "\n",
    "* [IMGW (Instytut Meteorologii i Gospodarki Wodnej, *eng.* Polish Institute of Meteorology and Water Management)](https://danepubliczne.imgw.pl)\n",
    "* [Eurostat](https://ec.europa.eu/eurostat/data/database)\n",
    "\n",
    "\n",
    "To avoid boilerplate code and to keep this notebook short, inside `./tools` directory there are Python modules that allows to download following reports:\n",
    "\n",
    "* [Monthly tempreture report in Poland](https://dane.imgw.pl/data/dane_pomiarowo_obserwacyjne/dane_meteorologiczne/miesieczne/klimat/)\n",
    "* [Monthly precipitation report in Poland](https://dane.imgw.pl/data/dane_pomiarowo_obserwacyjne/dane_meteorologiczne/miesieczne/opad/)\n",
    "* [Selling prices of crop products (absolute prices) - annual price (from 2000 onwards)](https://ec.europa.eu/eurostat/data/database?p_p_id=NavTreeportletprod_WAR_NavTreeportletprod_INSTANCE_nPqeVbPXRmWQ&p_p_lifecycle=0&p_p_state=pop_up&p_p_mode=view&p_p_col_id=column-2&p_p_col_pos=1&p_p_col_count=2&_NavTreeportletprod_WAR_NavTreeportletprod_INSTANCE_nPqeVbPXRmWQ_nodeInfoService=true&nodeId=98243)\n",
    "\n",
    "Inside reports there are no explanation for every column or for codes inside of some cells, therefore dictionaries file are also need to be downloaded.    "
   ]
  },
  {
   "cell_type": "code",
   "execution_count": 6,
   "metadata": {},
   "outputs": [],
   "source": [
    "import tools.imgw as imgw\n",
    "import tools.eurostat as eurostat\n",
    "\n",
    "years = [2001, 2002, 2003, 2004, 2005, 2006, 2007, 2008, 2009, 2010, 2011, 2012, 2013, 2014, 2015, 2016, 2017, 2018]\n",
    "raw_temperature_report_paths = imgw.download_temperature_reports(years)\n",
    "temperature_report_dic_path = imgw.download_temperature_report_dic()\n",
    "\n",
    "raw_precipitation_report_paths = imgw.download_precipitation_reports(years)\n",
    "precipitation_report_dic_path = imgw.download_precipitation_report_dic()\n",
    "\n",
    "raw_crop_prices_report_path = eurostat.download_crop_prices()\n",
    "crop_categories_dic_path = eurostat.download_crop_categories_dic()"
   ]
  },
  {
   "cell_type": "markdown",
   "metadata": {},
   "source": [
    "## Step 2 Data preprocessing\n",
    "\n",
    "Before training machine learning models or plotting charts, data needs to be prepared. \n",
    "\n",
    "### Step 2.1 Prepare temperature data\n",
    "\n",
    "All temperature report files doesn't have column headers, therefore to check what each one of them mean we need to examin `k_m_t_format.txt` file. Here is a code that prints the headers (unfortunately in polish, I'll translate them in next step)"
   ]
  },
  {
   "cell_type": "code",
   "execution_count": 11,
   "metadata": {},
   "outputs": [
    {
     "output_type": "stream",
     "name": "stdout",
     "text": "-1\t\n\n0\tKod stacji                                       9\n\n1\tNazwa stacji                                    30\n\n2\tRok                                              4\n\n3\tMiesiąc                                          2\n\n4\tŚrednia miesięczna temperatura [°C]              5/1\n\n5\tStatus pomiaru TEMP                              1\n\n6\tŚrednia miesięczna wilgotność względna [%]       8/1\n\n7\tStatus pomiaru WLGS                              1\n\n8\tŚrednia miesięczna prędkość wiatru [m/s]         6/1\n\n9\tStatus pomiaru FWS                               1\n\n10\tŚrednie miesięczne zachmurzenie ogólne [oktanty] 6/1\n\n11\tStatus pomiaru NOS                               1\n\n12\t   \n\n13\tStatus \"8\" brak pomiaru\n"
    }
   ],
   "source": [
    "f = open(temperature_report_dic_path)\n",
    "index = -1\n",
    "for line in f:\n",
    "    print('{}\\t{}'.format(index,line))\n",
    "    index += 1\n",
    "f.close()"
   ]
  },
  {
   "cell_type": "markdown",
   "metadata": {},
   "source": [
    "In previous step, we've downloaded one file per each year, which now needs to combined into single one. Moreover, each of these files has temperature readings for several places across Poland. I've decided to calculate an average temperature for each month for entire Poland."
   ]
  },
  {
   "cell_type": "code",
   "execution_count": 22,
   "metadata": {},
   "outputs": [],
   "source": [
    "import pandas as pd\n",
    "\n",
    "for i in range(len(years)):\n",
    "    df = pd.read_csv(raw_temperature_report_paths.get(years[i]), header = None, encoding= 'unicode_escape')\n",
    "    df = df.drop(columns=[0, 1, 5, 6, 7, 8, 9, 10, 11])\n",
    "    df = df.rename(columns={2: 'Year', 3: 'Month', 4: 'Temperature [°C]'})\n",
    "    df = df.groupby('Month').mean()\n",
    "    if i == 0:\n",
    "        df.to_csv('data/processed/temperature.csv', mode = 'a')    \n",
    "    df.to_csv('data/processed/temperature.csv', mode = 'a', header = False)"
   ]
  },
  {
   "cell_type": "markdown",
   "metadata": {},
   "source": [
    "## Step 3 Data visualization"
   ]
  },
  {
   "cell_type": "markdown",
   "metadata": {},
   "source": [
    "## Step 4 Train machine learning models"
   ]
  }
 ],
 "metadata": {
  "language_info": {
   "codemirror_mode": {
    "name": "ipython",
    "version": 3
   },
   "file_extension": ".py",
   "mimetype": "text/x-python",
   "name": "python",
   "nbconvert_exporter": "python",
   "pygments_lexer": "ipython3",
   "version": "3.8.1-final"
  },
  "orig_nbformat": 2,
  "kernelspec": {
   "name": "python38164bitpolishcropspipenv12b83f0b5c5e4c09bfffd12f1824ec59",
   "display_name": "Python 3.8.1 64-bit ('polish-crops': pipenv)"
  }
 },
 "nbformat": 4,
 "nbformat_minor": 2
}