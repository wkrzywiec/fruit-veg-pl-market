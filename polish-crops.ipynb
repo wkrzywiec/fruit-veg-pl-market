{
 "cells": [
  {
   "cell_type": "markdown",
   "metadata": {},
   "source": [
    "# Polish Crops analysis\n",
    "\n",
    "With this notebook I would like to playaround some machine learning Python tools. \n",
    "\n",
    "Therefore I've decided to create this simple project, in which I want to check a simple hypothesis - is percipitation and/or temperature in Poland affecting prices of crops (soft wheat). In order to achieve it here are the steps:\n",
    "\n",
    "* **Step 1 Download source reports** - downloading necessary files from publically available databases.\n",
    "\n",
    "* **Step 2 Data preprocessing** - unnecessary data are removed and prepared for further processing.\n",
    "\n",
    "* **Step 3 Data visualization** - plotting couple of charts, just to visualize the downloaded data.\n",
    "\n",
    "* **Step 4 Train machine learning models** - training couple of machine learning regression models to check which one of them fits the best - is it a correlaction between climate (temperature, percipitation) and prices of soft wheat.\n",
    "---"
   ]
  },
  {
   "cell_type": "markdown",
   "metadata": {},
   "source": [
    "## Step 1 Download source reports\n",
    "\n",
    "First you need to download necessary data. They are downloaded from following sources:\n",
    "\n",
    "* [Eurostat](https://ec.europa.eu/eurostat/data/database)\n",
    "* [IMGW (Instytut Meteorologii i Gospodarki Wodnej, *eng.* Polish Institute of Meteorology and Water Management)](https://danepubliczne.imgw.pl)"
   ]
  },
  {
   "cell_type": "markdown",
   "metadata": {},
   "source": [
    "## Step 2 Data preprocessing\n"
   ]
  },
  {
   "cell_type": "markdown",
   "metadata": {},
   "source": [
    "## Step 3 Data visualization"
   ]
  },
  {
   "cell_type": "markdown",
   "metadata": {},
   "source": [
    "## Step 4 Train machine learning models"
   ]
  }
 ],
 "metadata": {
  "language_info": {
   "codemirror_mode": {
    "name": "ipython",
    "version": 3
   },
   "file_extension": ".py",
   "mimetype": "text/x-python",
   "name": "python",
   "nbconvert_exporter": "python",
   "pygments_lexer": "ipython3",
   "version": "3.8.1-final"
  },
  "orig_nbformat": 2,
  "kernelspec": {
   "name": "python38164bitfruitvegplmarketpipenv153bdc05616943168f314dd5d9f31e2f",
   "display_name": "Python 3.8.1 64-bit ('fruit-veg-pl-market': pipenv)"
  }
 },
 "nbformat": 4,
 "nbformat_minor": 2
}